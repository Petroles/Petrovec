{
 "cells": [
  {
   "cell_type": "markdown",
   "metadata": {},
   "source": [
    "### Geração de corpora consolidados, com nível de acesso público"
   ]
  },
  {
   "cell_type": "code",
   "execution_count": 1,
   "metadata": {},
   "outputs": [],
   "source": [
    "import os\n",
    "from pathlib import Path\n",
    "from os.path import isfile, join, isdir"
   ]
  },
  {
   "cell_type": "code",
   "execution_count": 2,
   "metadata": {},
   "outputs": [
    {
     "data": {
      "text/html": [
       "<style>.container { width:100% !important; }</style>"
      ],
      "text/plain": [
       "<IPython.core.display.HTML object>"
      ]
     },
     "metadata": {},
     "output_type": "display_data"
    }
   ],
   "source": [
    "%run _ConsolidacaoUtil.ipynb"
   ]
  },
  {
   "cell_type": "code",
   "execution_count": 3,
   "metadata": {},
   "outputs": [],
   "source": [
    "pastaArquivosCorpora = join('..', '..', 'resources', 'Corpora', '3- Textos Preprocessados', 'Publicos')"
   ]
  },
  {
   "cell_type": "code",
   "execution_count": 4,
   "metadata": {},
   "outputs": [],
   "source": [
    "ANP_GLOSSARIO = 'ANP-Glossario.txt'\n",
    "ANP_LIVROS = 'ANP-Livros.txt'\n",
    "ANP_NOTAS = 'ANP-NotasEstudosTecnicos.txt'\n",
    "ANP_PUBLICACOES = 'ANP-Publicacoes.txt'\n",
    "ANP_TESES = 'ANP-TesesDissertacoesPRH.txt'\n",
    "PETROBRAS_BOLETINS_GEO = 'Petrobras-BoletinsGeociencias.txt'\n",
    "PETROBRAS_BOLETINS_PRODUCAO = 'Petrobras-BoletinsProducaoPetroleo.txt'\n",
    "PETROBRAS_BOLETINS_TECNICOS = 'Petrobras-BoletinsTecnicos.txt'\n",
    "IBGE = 'IBGE.txt'\n",
    "IBP_CONFERENCIAS = 'IBP-RioOeG2018.txt'\n",
    "PETROSIN_MONOGRAFIAS = 'Petrosin-Monografias.txt'\n",
    "PETROSIN_TESES = 'Petrosin-Teses.txt'\n",
    "IBICT = 'Publico-IBICT-BDTD-ExtratorPUC.txt'\n",
    "DICIONARIO_PETROLEO = 'DicionarioDoPetroleo-Siglario.txt'\n",
    "PETROBRAS_GLOSSARIO = 'Petrobras-Glossario.txt'\n",
    "#NILC = 'NILC.txt'\n",
    "NILC = ['NILC - Preprocessado-'+str(i)+'.txt' for i in range(1,11)]"
   ]
  },
  {
   "cell_type": "code",
   "execution_count": 5,
   "metadata": {},
   "outputs": [
    {
     "name": "stdout",
     "output_type": "stream",
     "text": [
      "['NILC - Preprocessado-1.txt', 'NILC - Preprocessado-2.txt', 'NILC - Preprocessado-3.txt', 'NILC - Preprocessado-4.txt', 'NILC - Preprocessado-5.txt', 'NILC - Preprocessado-6.txt', 'NILC - Preprocessado-7.txt', 'NILC - Preprocessado-8.txt', 'NILC - Preprocessado-9.txt', 'NILC - Preprocessado-10.txt']\n"
     ]
    }
   ],
   "source": [
    "print(NILC)"
   ]
  },
  {
   "cell_type": "code",
   "execution_count": 12,
   "metadata": {},
   "outputs": [
    {
     "name": "stdout",
     "output_type": "stream",
     "text": [
      "\n",
      "* Estatísticas do corpus final consolidado:\n",
      "Total de sentenças:  710,235\n",
      "Total de tokens:  9,568,039\n",
      "Vocabulário total:  274,213\n",
      "Vocabulario Filtrado:  57,455\n",
      "\n",
      "Preprocessamento: tempo total decorrido:  0:00:05.908246\n"
     ]
    }
   ],
   "source": [
    "# Parcial publicos - ANP e Petro - Original do artigo inicial - qualidade melhorada com eliminacao de ruidos\n",
    "nomeCorpusSaida = 'publico-ANP-PETRO-v2.txt'\n",
    "nomesArquivosDeCorpus = [\n",
    "    ANP_GLOSSARIO,\n",
    "    ANP_LIVROS,\n",
    "    ANP_NOTAS,\n",
    "    ANP_PUBLICACOES,\n",
    "    ANP_TESES,\n",
    "    PETROBRAS_BOLETINS_GEO,\n",
    "    PETROBRAS_BOLETINS_PRODUCAO,\n",
    "    PETROBRAS_BOLETINS_TECNICOS\n",
    "]\n",
    "textoCorpus = preProcessaArquivoConsolidado(nomeCorpusSaida, nomesArquivosDeCorpus)"
   ]
  },
  {
   "cell_type": "code",
   "execution_count": 13,
   "metadata": {},
   "outputs": [
    {
     "name": "stdout",
     "output_type": "stream",
     "text": [
      "\n",
      "* Estatísticas do corpus final consolidado:\n",
      "Total de sentenças:  2,936,265\n",
      "Total de tokens:  37,024,438\n",
      "Vocabulário total:  879,390\n",
      "Vocabulario Filtrado:  138,443\n",
      "\n",
      "Preprocessamento: tempo total decorrido:  0:00:20.003425\n"
     ]
    }
   ],
   "source": [
    "nomeCorpusSaida = 'publico-Petrosin.txt'\n",
    "nomesArquivosDeCorpus = [\n",
    "    PETROSIN_MONOGRAFIAS,\n",
    "    PETROSIN_TESES\n",
    "]\n",
    "textoCorpus = preProcessaArquivoConsolidado(nomeCorpusSaida, nomesArquivosDeCorpus)"
   ]
  },
  {
   "cell_type": "code",
   "execution_count": 14,
   "metadata": {},
   "outputs": [
    {
     "name": "stdout",
     "output_type": "stream",
     "text": [
      "\n",
      "* Estatísticas do corpus final consolidado:\n",
      "Total de sentenças:  6,294,531\n",
      "Total de tokens:  85,761,670\n",
      "Vocabulário total:  1,206,507\n",
      "Vocabulario Filtrado:  200,707\n",
      "\n",
      "Preprocessamento: tempo total decorrido:  0:00:47.775326\n"
     ]
    }
   ],
   "source": [
    "nomeCorpusSaida = 'publico-COMPLETO.txt'\n",
    "nomesArquivosDeCorpus = [\n",
    "    ANP_GLOSSARIO,\n",
    "    ANP_LIVROS,\n",
    "    ANP_NOTAS,\n",
    "    ANP_PUBLICACOES,\n",
    "    ANP_TESES,\n",
    "    PETROBRAS_BOLETINS_GEO,\n",
    "    PETROBRAS_BOLETINS_PRODUCAO,\n",
    "    PETROBRAS_BOLETINS_TECNICOS,\n",
    "    IBGE,\n",
    "    IBP_CONFERENCIAS,\n",
    "    PETROSIN_MONOGRAFIAS, \n",
    "    PETROSIN_TESES, \n",
    "    IBICT\n",
    "]\n",
    "textoCorpus = preProcessaArquivoConsolidado(nomeCorpusSaida, nomesArquivosDeCorpus)"
   ]
  },
  {
   "cell_type": "code",
   "execution_count": 6,
   "metadata": {},
   "outputs": [
    {
     "name": "stdout",
     "output_type": "stream",
     "text": [
      "\n",
      "* Arquivo de saida gravado em ..\\..\\resources\\Corpora\\3- Textos Preprocessados\\_Consolidados\\Publico-Hibrido(Completo+NILC).txt\n",
      "\n",
      "* Estatísticas do corpus final consolidado:\n",
      "Total de sentenças:  43,631,616\n",
      "Total de tokens:  451,114,901\n",
      "\n",
      "Preprocessamento: tempo total decorrido:  0:03:00.274442\n"
     ]
    }
   ],
   "source": [
    "# Todos os publicos (incluindo IBICT) + Corpus de contexto geral do NILC\n",
    "imprimeEstatisticas = True\n",
    "imprimeEstatisticasVocabulario = False\n",
    "nomeCorpusSaida = 'Publico-Hibrido(Completo+NILC).txt'\n",
    "nomesArquivosDeCorpus = [\n",
    "    ANP_GLOSSARIO,\n",
    "    ANP_LIVROS,\n",
    "    ANP_NOTAS,\n",
    "    ANP_PUBLICACOES,\n",
    "    ANP_TESES,\n",
    "    PETROBRAS_BOLETINS_GEO,\n",
    "    PETROBRAS_BOLETINS_PRODUCAO,\n",
    "    PETROBRAS_BOLETINS_TECNICOS,\n",
    "    IBGE,\n",
    "    IBP_CONFERENCIAS,\n",
    "    PETROSIN_MONOGRAFIAS, \n",
    "    PETROSIN_TESES, \n",
    "    DICIONARIO_PETROLEO,\n",
    "    PETROBRAS_GLOSSARIO,\n",
    "    IBICT\n",
    "    #NILC\n",
    "]\n",
    "\n",
    "nomesArquivosDeCorpus.extend(NILC)\n",
    "#print(nomesArquivosDeCorpus)\n",
    "\n",
    "textoCorpus = preProcessaArquivoConsolidado(nomeCorpusSaida, nomesArquivosDeCorpus)"
   ]
  },
  {
   "cell_type": "code",
   "execution_count": 6,
   "metadata": {},
   "outputs": [
    {
     "name": "stdout",
     "output_type": "stream",
     "text": [
      "\n",
      "* Arquivo de saida gravado em ..\\..\\resources\\Corpora\\3- Textos Preprocessados\\_Consolidados\\NILC completo-Preprocessado.txt\n",
      "\n",
      "* Estatísticas do corpus final consolidado:\n",
      "Total de sentenças:  37,327,741\n",
      "Total de tokens:  365,295,169\n",
      "\n",
      "Preprocessamento: tempo total decorrido:  0:01:32.508992\n"
     ]
    }
   ],
   "source": [
    "# Consolida os corpora segmentados do NILC\n",
    "imprimeEstatisticas = True\n",
    "imprimeEstatisticasVocabulario = False\n",
    "nomeCorpusSaida = 'NILC completo-Preprocessado.txt'\n",
    "nomesArquivosDeCorpus = NILC\n",
    "\n",
    "#print(nomesArquivosDeCorpus)\n",
    "\n",
    "textoCorpus = preProcessaArquivoConsolidado(nomeCorpusSaida, nomesArquivosDeCorpus)"
   ]
  },
  {
   "cell_type": "code",
   "execution_count": null,
   "metadata": {},
   "outputs": [],
   "source": []
  }
 ],
 "metadata": {
  "kernelspec": {
   "display_name": "Python 3",
   "language": "python",
   "name": "python3"
  },
  "language_info": {
   "codemirror_mode": {
    "name": "ipython",
    "version": 3
   },
   "file_extension": ".py",
   "mimetype": "text/x-python",
   "name": "python",
   "nbconvert_exporter": "python",
   "pygments_lexer": "ipython3",
   "version": "3.6.5"
  }
 },
 "nbformat": 4,
 "nbformat_minor": 2
}
