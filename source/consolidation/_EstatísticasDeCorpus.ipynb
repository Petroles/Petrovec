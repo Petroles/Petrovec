{
 "cells": [
  {
   "cell_type": "markdown",
   "metadata": {},
   "source": [
    "### Geração de corpora consolidados, com nível de acesso público"
   ]
  },
  {
   "cell_type": "code",
   "execution_count": 1,
   "metadata": {},
   "outputs": [],
   "source": [
    "import re\n",
    "from collections import Counter\n",
    "import os\n",
    "from pathlib import Path\n",
    "import datetime\n",
    "from os import listdir\n",
    "from os.path import isfile, join, isdir\n",
    "import unicodedata\n",
    "import re\n",
    "import gensim\n",
    "from gensim.models import Word2Vec\n",
    "from gensim.models.word2vec import PathLineSentences, LineSentence"
   ]
  },
  {
   "cell_type": "code",
   "execution_count": 2,
   "metadata": {},
   "outputs": [
    {
     "data": {
      "text/html": [
       "<style>.container { width:100% !important; }</style>"
      ],
      "text/plain": [
       "<IPython.core.display.HTML object>"
      ]
     },
     "metadata": {},
     "output_type": "display_data"
    }
   ],
   "source": [
    "from IPython.core.display import display, HTML\n",
    "display(HTML(\"<style>.container { width:100% !important; }</style>\"))\n",
    "\n",
    "import warnings\n",
    "warnings.filterwarnings('ignore')\n",
    "\n",
    "def pretty_print(df):\n",
    "    return display( HTML( df.to_html().replace(\"\\\\n\",\"<br>\") ) )"
   ]
  },
  {
   "cell_type": "code",
   "execution_count": 3,
   "metadata": {},
   "outputs": [
    {
     "data": {
      "text/html": [
       "<style>.container { width:100% !important; }</style>"
      ],
      "text/plain": [
       "<IPython.core.display.HTML object>"
      ]
     },
     "metadata": {},
     "output_type": "display_data"
    }
   ],
   "source": [
    "%run _ConsolidacaoUtil.ipynb"
   ]
  },
  {
   "cell_type": "code",
   "execution_count": 4,
   "metadata": {},
   "outputs": [],
   "source": [
    "pastaArquivosCorpora = join('..', '..', 'resources', 'Corpora', '3- Textos Preprocessados', '_Consolidados')"
   ]
  },
  {
   "cell_type": "code",
   "execution_count": 12,
   "metadata": {},
   "outputs": [],
   "source": [
    "nomesArquivosDeCorpus = [\n",
    "    'publico-ANP-PETRO.txt',\n",
    "    'publico-petrosin -teses e monografias.txt',\n",
    "    'publico-TODOS.txt',\n",
    "    'publico-IBICT-BDTD.txt',\n",
    "    'publico-COMPLETO (com IBICT).txt',\n",
    "    'NP1-Memoria Tecnica (comunicados e relatorios).txt',\n",
    "    'NP-1-SBEP.txt',\n",
    "    'NP1-COMPLETO (Memoria Tecnica e SBEP).txt',\n",
    "    '_CorpusCompleto (publicos e NP1).txt',\n",
    "    '_CorpusCompleto (publicos e NP1 - SEM SBEP).txt'\n",
    "]"
   ]
  },
  {
   "cell_type": "code",
   "execution_count": 7,
   "metadata": {},
   "outputs": [],
   "source": [
    "def geraEstatisticas(nomesModelos):\n",
    "    nomesColunas = [nomeModelo for nomeModelo in nomesModelos]\n",
    "    corpora = [join(pastaArquivosCorpora, nomeModelo) for nomeModelo in nomesModelos]    \n",
    "       \n",
    "    nomesLinhas=['estatísticas']    \n",
    "           \n",
    "    data = {}\n",
    "    for i in range(len(nomesColunas)):\n",
    "        data[nomesColunas[i]] = [getEstatisticas(corpora[i])]\n",
    "\n",
    "    df = pd.DataFrame(data)\n",
    "    df.columns = nomesColunas\n",
    "    df.index = nomesLinhas\n",
    "    pd.set_option('display.max_colwidth', -1)\n",
    "    pretty_print(df)"
   ]
  },
  {
   "cell_type": "code",
   "execution_count": 14,
   "metadata": {},
   "outputs": [
    {
     "data": {
      "text/html": [
       "<table border=\"1\" class=\"dataframe\">\n",
       "  <thead>\n",
       "    <tr style=\"text-align: right;\">\n",
       "      <th></th>\n",
       "      <th>publico-ANP-PETRO.txt</th>\n",
       "      <th>publico-petrosin -teses e monografias.txt</th>\n",
       "      <th>publico-TODOS.txt</th>\n",
       "      <th>publico-IBICT-BDTD.txt</th>\n",
       "      <th>publico-COMPLETO (com IBICT).txt</th>\n",
       "      <th>NP1-Memoria Tecnica (comunicados e relatorios).txt</th>\n",
       "      <th>NP-1-SBEP.txt</th>\n",
       "      <th>NP1-COMPLETO (Memoria Tecnica e SBEP).txt</th>\n",
       "      <th>_CorpusCompleto (publicos e NP1).txt</th>\n",
       "      <th>_CorpusCompleto (publicos e NP1 - SEM SBEP).txt</th>\n",
       "    </tr>\n",
       "  </thead>\n",
       "  <tbody>\n",
       "    <tr>\n",
       "      <th>estatísticas</th>\n",
       "      <td>851,004 sentenças<br>11,388,209 tokens<br></td>\n",
       "      <td>2,977,351 sentenças<br>37,868,062 tokens<br></td>\n",
       "      <td>3,828,354 sentenças<br>49,256,271 tokens<br></td>\n",
       "      <td>5,658,098 sentenças<br>74,029,086 tokens<br></td>\n",
       "      <td>9,486,451 sentenças<br>123,285,357 tokens<br></td>\n",
       "      <td>4,777,721 sentenças<br>63,417,353 tokens<br></td>\n",
       "      <td>22,971,615 sentenças<br>196,740,389 tokens<br></td>\n",
       "      <td>27,749,335 sentenças<br>260,157,742 tokens<br></td>\n",
       "      <td>37,241,248 sentenças<br>383,510,203 tokens<br></td>\n",
       "      <td>14,269,634 sentenças<br>186,769,814 tokens<br></td>\n",
       "    </tr>\n",
       "  </tbody>\n",
       "</table>"
      ],
      "text/plain": [
       "<IPython.core.display.HTML object>"
      ]
     },
     "metadata": {},
     "output_type": "display_data"
    }
   ],
   "source": [
    "geraEstatisticas(nomesArquivosDeCorpus)"
   ]
  },
  {
   "cell_type": "code",
   "execution_count": 12,
   "metadata": {},
   "outputs": [],
   "source": [
    "corpusNp1ePublicos = [\n",
    "    '_CorpusCompleto (PUBLICO + NP1 - sem SBEP).txt',\n",
    "   '_CorpusCompleto(PUBLICO + NP1 - sem SBEP) - com stopwords +  MWEs.txt',\n",
    "]"
   ]
  },
  {
   "cell_type": "code",
   "execution_count": 16,
   "metadata": {},
   "outputs": [
    {
     "data": {
      "text/html": [
       "<table border=\"1\" class=\"dataframe\">\n",
       "  <thead>\n",
       "    <tr style=\"text-align: right;\">\n",
       "      <th></th>\n",
       "      <th>_CorpusCompleto (PUBLICO + NP1 - sem SBEP).txt</th>\n",
       "      <th>_CorpusCompleto(PUBLICO + NP1 - sem SBEP) - com stopwords +  MWEs.txt</th>\n",
       "    </tr>\n",
       "  </thead>\n",
       "  <tbody>\n",
       "    <tr>\n",
       "      <th>estatísticas</th>\n",
       "      <td>13,728,543 sentenças<br>180,820,190 tokens<br></td>\n",
       "      <td>14,457,009 sentenças<br>278,121,811 tokens<br></td>\n",
       "    </tr>\n",
       "  </tbody>\n",
       "</table>"
      ],
      "text/plain": [
       "<IPython.core.display.HTML object>"
      ]
     },
     "metadata": {},
     "output_type": "display_data"
    }
   ],
   "source": [
    "geraEstatisticas(corpusNp1ePublicos)"
   ]
  },
  {
   "cell_type": "code",
   "execution_count": 17,
   "metadata": {},
   "outputs": [
    {
     "name": "stdout",
     "output_type": "stream",
     "text": [
      "Total de sentenças:  13,728,543\n",
      "Total de tokens:  180,820,190\n"
     ]
    }
   ],
   "source": [
    "corpus = join(pastaArquivosCorpora, '_CorpusCompleto (PUBLICO + NP1 - sem SBEP).txt')\n",
    "textoCorpus = leTextoDeArquivo(corpus)\n",
    "imprime_info_corpus(textoCorpus)"
   ]
  },
  {
   "cell_type": "code",
   "execution_count": null,
   "metadata": {},
   "outputs": [],
   "source": []
  }
 ],
 "metadata": {
  "kernelspec": {
   "display_name": "Python 3",
   "language": "python",
   "name": "python3"
  },
  "language_info": {
   "codemirror_mode": {
    "name": "ipython",
    "version": 3
   },
   "file_extension": ".py",
   "mimetype": "text/x-python",
   "name": "python",
   "nbconvert_exporter": "python",
   "pygments_lexer": "ipython3",
   "version": "3.6.5"
  }
 },
 "nbformat": 4,
 "nbformat_minor": 2
}
