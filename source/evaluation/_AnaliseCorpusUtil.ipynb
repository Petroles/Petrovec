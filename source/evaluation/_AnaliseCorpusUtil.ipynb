{
 "cells": [
  {
   "cell_type": "code",
   "execution_count": null,
   "metadata": {},
   "outputs": [],
   "source": [
    "import re\n",
    "from collections import Counter\n",
    "import os\n",
    "from pathlib import Path\n",
    "import datetime\n",
    "from os import listdir\n",
    "from os.path import isfile, join, isdir\n",
    "import unicodedata\n",
    "from sklearn.feature_extraction.text import CountVectorizer\n",
    "import re\n",
    "import multiprocessing\n",
    "import pandas"
   ]
  },
  {
   "cell_type": "code",
   "execution_count": 44,
   "metadata": {},
   "outputs": [],
   "source": [
    "from os import path\n",
    "from PIL import Image\n",
    "from wordcloud import WordCloud, STOPWORDS, ImageColorGenerator\n",
    "import matplotlib.pyplot as plt\n",
    "% matplotlib inline"
   ]
  },
  {
   "cell_type": "code",
   "execution_count": 45,
   "metadata": {},
   "outputs": [],
   "source": [
    "import seaborn as sns\n",
    "sns.set(rc={'figure.figsize':(13,8)})"
   ]
  },
  {
   "cell_type": "code",
   "execution_count": 104,
   "metadata": {},
   "outputs": [
    {
     "data": {
      "text/html": [
       "<style>.container { width:100% !important; }</style>"
      ],
      "text/plain": [
       "<IPython.core.display.HTML object>"
      ]
     },
     "metadata": {},
     "output_type": "display_data"
    }
   ],
   "source": [
    "%run ../_Util.ipynb"
   ]
  },
  {
   "cell_type": "code",
   "execution_count": 84,
   "metadata": {},
   "outputs": [],
   "source": [
    "pastaArquivoCorpus = join('..', '..', 'resources', 'Corpora', '3- Textos Preprocessados', '_Consolidados')"
   ]
  },
  {
   "cell_type": "code",
   "execution_count": 86,
   "metadata": {},
   "outputs": [],
   "source": [
    "list_stopwords = ['NUMBER','number','<NUMBER>', 'cid', 'cid0', 'cid1', 'cid2', 'cid3', 'cid32', 'et', 'al', 'petrobras1', 'figura', 'http', 'ser', 'pode', 'podem']"
   ]
  },
  {
   "cell_type": "code",
   "execution_count": 87,
   "metadata": {},
   "outputs": [],
   "source": [
    "def printWordClouds(texto):\n",
    "    wordcloud = WordCloud(\n",
    "                          background_color='white',\n",
    "                          stopwords=list_stopwords,\n",
    "                          max_words=100,\n",
    "                          max_font_size=50, \n",
    "                          #min_font_size=80,\n",
    "                          random_state=42,\n",
    "                          relative_scaling = 1, \n",
    "                          width = 800,\n",
    "                          height = 600\n",
    "                         ).generate(texto)\n",
    "    \n",
    "    print(wordcloud)\n",
    "    fig = plt.figure(1)\n",
    "    plt.imshow(wordcloud, interpolation=\"bilinear\")\n",
    "    plt.axis('off')\n",
    "    plt.show()\n",
    "    fig.savefig(\"wordcloud.png\", dpi=900)"
   ]
  },
  {
   "cell_type": "code",
   "execution_count": 95,
   "metadata": {},
   "outputs": [],
   "source": [
    "def get_top_n_words(corpus, n=None):\n",
    "    vec = CountVectorizer().fit(corpus)\n",
    "    bag_of_words = vec.transform(corpus)\n",
    "    sum_words = bag_of_words.sum(axis=0) \n",
    "    words_freq = [(word, sum_words[0, idx]) for word, idx in      \n",
    "                   vec.vocabulary_.items() if word not in list_stopwords]\n",
    "    words_freq =sorted(words_freq, key = lambda x: x[1], \n",
    "                       reverse=True)\n",
    "    return words_freq[:n]\n",
    "\n",
    "#Most frequently occuring words\n",
    "def printUnigramsHistogram(texto):\n",
    "    corpus = [texto]\n",
    "    #Convert most freq words to dataframe for plotting bar plot\n",
    "    top_words = get_top_n_words(corpus, n=30)\n",
    "    top_df = pandas.DataFrame(top_words)\n",
    "    top_df.columns=[\"Word\", \"Freq\"]\n",
    "    pretty_print(top_df)\n",
    "    \n",
    "    #Barplot of most freq words\n",
    "    g = sns.barplot(x=\"Word\", y=\"Freq\", data=top_df)\n",
    "    g.set_xticklabels(g.get_xticklabels(), rotation=90)\n",
    "    pretty_printCharts()"
   ]
  },
  {
   "cell_type": "code",
   "execution_count": 107,
   "metadata": {},
   "outputs": [],
   "source": [
    "#Most frequently occuring Bi-grams\n",
    "def get_top_n2_words(texto, n=None):\n",
    "    corpus = [texto]\n",
    "    vec1 = CountVectorizer(ngram_range=(2,2),  \n",
    "            max_features=2000).fit(corpus)\n",
    "    bag_of_words = vec1.transform(corpus)\n",
    "    sum_words = bag_of_words.sum(axis=0) \n",
    "    words_freq = [(word, sum_words[0, idx]) for word, idx in     \n",
    "                  vec1.vocabulary_.items() if word.split()[0] not in list_stopwords and word.split()[1] not in list_stopwords]\n",
    "    words_freq =sorted(words_freq, key = lambda x: x[1], \n",
    "                reverse=True)\n",
    "    return words_freq[:n]\n",
    "\n",
    "def printBigramsHistogram(texto):\n",
    "    corpus = texto\n",
    "    \n",
    "    top2_words = get_top_n2_words(corpus, n=30)\n",
    "    top2_df = pandas.DataFrame(top2_words)\n",
    "    top2_df.columns=[\"Bi-gram\", \"Freq\"]\n",
    "    pretty_print(top2_df)\n",
    "    \n",
    "    #Barplot of most freq Bi-grams\n",
    "    import seaborn as sns\n",
    "    #sns.set(rc={'figure.figsize':(13,8)})\n",
    "    h=sns.barplot(x=\"Bi-gram\", y=\"Freq\", data=top2_df)\n",
    "    h.set_xticklabels(h.get_xticklabels(), rotation=90)\n",
    "    pretty_printCharts()"
   ]
  },
  {
   "cell_type": "code",
   "execution_count": 97,
   "metadata": {},
   "outputs": [],
   "source": [
    "#Most frequently occuring Tri-grams\n",
    "def get_top_n3_words(corpus, n=None):\n",
    "    vec1 = CountVectorizer(ngram_range=(3,3), \n",
    "           max_features=2000).fit(corpus)\n",
    "    bag_of_words = vec1.transform(corpus)\n",
    "    sum_words = bag_of_words.sum(axis=0) \n",
    "    words_freq = [(word, sum_words[0, idx]) for word, idx in     \n",
    "                  vec1.vocabulary_.items() if word.split()[0] not in list_stopwords and word.split()[1] not in list_stopwords and word.split()[2] not in list_stopwords]\n",
    "    words_freq =sorted(words_freq, key = lambda x: x[1], \n",
    "                reverse=True)\n",
    "    return words_freq[:n]\n",
    "\n",
    "def printTrigramsHistogram(texto):\n",
    "    corpus = [texto]\n",
    "    \n",
    "    top3_words = get_top_n3_words(corpus, n=30)\n",
    "    top3_df = pandas.DataFrame(top3_words)\n",
    "    top3_df.columns=[\"Tri-gram\", \"Freq\"]\n",
    "    pretty_print(top3_df)\n",
    "    \n",
    "    #Barplot of most freq Tri-grams\n",
    "    import seaborn as sns\n",
    "    #sns.set(rc={'figure.figsize':(13,8)})\n",
    "    j=sns.barplot(x=\"Tri-gram\", y=\"Freq\", data=top3_df)\n",
    "    j.set_xticklabels(j.get_xticklabels(), rotation=90)\n",
    "    pretty_printCharts()"
   ]
  },
  {
   "cell_type": "code",
   "execution_count": 106,
   "metadata": {},
   "outputs": [],
   "source": [
    "def pretty_print(df):\n",
    "    return display( HTML( df.to_html().replace(\"\\\\n\",\"<br>\") ) )"
   ]
  },
  {
   "cell_type": "code",
   "execution_count": null,
   "metadata": {},
   "outputs": [],
   "source": [
    "from IPython.display import display, HTML\n",
    "def pretty_printCharts():\n",
    "    CSS = \"\"\"\n",
    "    .output {\n",
    "        flex-direction: row;\n",
    "    }\n",
    "    \"\"\"\n",
    "\n",
    "    HTML('<style>{}</style>'.format(CSS))"
   ]
  }
 ],
 "metadata": {
  "kernelspec": {
   "display_name": "Python 3",
   "language": "python",
   "name": "python3"
  },
  "language_info": {
   "codemirror_mode": {
    "name": "ipython",
    "version": 3
   },
   "file_extension": ".py",
   "mimetype": "text/x-python",
   "name": "python",
   "nbconvert_exporter": "python",
   "pygments_lexer": "ipython3",
   "version": "3.6.5"
  }
 },
 "nbformat": 4,
 "nbformat_minor": 4
}
