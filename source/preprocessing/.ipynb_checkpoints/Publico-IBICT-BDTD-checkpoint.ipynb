{
 "cells": [
  {
   "cell_type": "markdown",
   "metadata": {},
   "source": [
    "Executando o algoritmo de conversão, a partir da pasta de entrada\n"
   ]
  },
  {
   "cell_type": "code",
   "execution_count": 9,
   "metadata": {},
   "outputs": [],
   "source": [
    "import numpy as np\n",
    "import re\n",
    "import nltk\n",
    "from collections import Counter\n",
    "import os\n",
    "from pathlib import Path\n",
    "import datetime\n",
    "from string import ascii_lowercase\n",
    "import pandas as pd\n",
    "import os\n",
    "from os import listdir\n",
    "from os.path import isfile, join, isdir\n",
    "import datetime\n",
    "import unicodedata\n",
    "from nltk.corpus import stopwords # Import the stop word list\n",
    "from string import ascii_lowercase\n",
    "import re"
   ]
  },
  {
   "cell_type": "code",
   "execution_count": 10,
   "metadata": {},
   "outputs": [
    {
     "data": {
      "text/html": [
       "<style>.container { width:100% !important; }</style>"
      ],
      "text/plain": [
       "<IPython.core.display.HTML object>"
      ]
     },
     "metadata": {},
     "output_type": "display_data"
    }
   ],
   "source": [
    "%run _PreProcessamento.ipynb"
   ]
  },
  {
   "cell_type": "code",
   "execution_count": 11,
   "metadata": {},
   "outputs": [],
   "source": [
    "pastaCorporaEntrada = join('Publicos', 'IBICT-BDTD(extrator PUC)')\n",
    "nomeArquivoSaidaCorpus = join('Publicos','Publico-IBICT-BDTD-ExtratorPUC.txt')\n",
    "isReconstroiSentencas = True\n",
    "ignoraExcel = True\n",
    "tratamento_hifenizacao = CARACTERE_ESPACO"
   ]
  },
  {
   "cell_type": "code",
   "execution_count": 12,
   "metadata": {},
   "outputs": [
    {
     "name": "stderr",
     "output_type": "stream",
     "text": [
      "03/05/2020 09:36:56 AM:  ... ignorando arquivo vazio: UFBA__10002.txt\n"
     ]
    },
    {
     "name": "stdout",
     "output_type": "stream",
     "text": [
      "Erro ao ler o arquivo:  ..\\..\\resources\\corpora\\2- Textos Extraidos\\Publicos\\IBICT-BDTD(extrator PUC)\\UFBA__10002.txt\n"
     ]
    },
    {
     "name": "stderr",
     "output_type": "stream",
     "text": [
      "03/05/2020 09:37:02 AM:  ... ignorando arquivo vazio: UFBA__21240.txt\n"
     ]
    },
    {
     "name": "stdout",
     "output_type": "stream",
     "text": [
      "Erro ao ler o arquivo:  ..\\..\\resources\\corpora\\2- Textos Extraidos\\Publicos\\IBICT-BDTD(extrator PUC)\\UFBA__21240.txt\n"
     ]
    },
    {
     "name": "stderr",
     "output_type": "stream",
     "text": [
      "03/05/2020 09:37:03 AM:  ... ignorando arquivo vazio: UFBA__21528.txt\n",
      "03/05/2020 09:37:04 AM:  ... ignorando arquivo vazio: UFBA__23359.txt\n"
     ]
    },
    {
     "name": "stdout",
     "output_type": "stream",
     "text": [
      "Erro ao ler o arquivo:  ..\\..\\resources\\corpora\\2- Textos Extraidos\\Publicos\\IBICT-BDTD(extrator PUC)\\UFBA__23359.txt\n"
     ]
    },
    {
     "name": "stderr",
     "output_type": "stream",
     "text": [
      "03/05/2020 09:37:16 AM:  ... ignorando arquivo vazio: UFES_10_4186.txt\n"
     ]
    },
    {
     "name": "stdout",
     "output_type": "stream",
     "text": [
      "Erro ao ler o arquivo:  ..\\..\\resources\\corpora\\2- Textos Extraidos\\Publicos\\IBICT-BDTD(extrator PUC)\\UFES_10_4186.txt\n"
     ]
    },
    {
     "name": "stderr",
     "output_type": "stream",
     "text": [
      "03/05/2020 09:37:19 AM:  ... ignorando arquivo vazio: UFES_10_5338.txt\n"
     ]
    },
    {
     "name": "stdout",
     "output_type": "stream",
     "text": [
      "Erro ao ler o arquivo:  ..\\..\\resources\\corpora\\2- Textos Extraidos\\Publicos\\IBICT-BDTD(extrator PUC)\\UFES_10_5338.txt\n"
     ]
    },
    {
     "name": "stderr",
     "output_type": "stream",
     "text": [
      "03/05/2020 09:37:19 AM:  ... ignorando arquivo vazio: UFES_10_6345.txt\n",
      "03/05/2020 09:37:19 AM:  ... ignorando arquivo vazio: UFES_10_6748.txt\n"
     ]
    },
    {
     "name": "stdout",
     "output_type": "stream",
     "text": [
      "Erro ao ler o arquivo:  ..\\..\\resources\\corpora\\2- Textos Extraidos\\Publicos\\IBICT-BDTD(extrator PUC)\\UFES_10_6748.txt\n"
     ]
    },
    {
     "name": "stderr",
     "output_type": "stream",
     "text": [
      "03/05/2020 09:37:23 AM:  ... ignorando arquivo vazio: UFES_10_9528.txt\n",
      "03/05/2020 09:37:25 AM:  ... ignorando arquivo vazio: UFF_4082.txt\n"
     ]
    },
    {
     "name": "stdout",
     "output_type": "stream",
     "text": [
      "Erro ao ler o arquivo:  ..\\..\\resources\\corpora\\2- Textos Extraidos\\Publicos\\IBICT-BDTD(extrator PUC)\\UFF_4082.txt\n"
     ]
    },
    {
     "name": "stderr",
     "output_type": "stream",
     "text": [
      "03/05/2020 09:37:30 AM:  ... ignorando arquivo vazio: UFMG_BUBD-ADJQXK.txt\n"
     ]
    },
    {
     "name": "stdout",
     "output_type": "stream",
     "text": [
      "Erro ao ler o arquivo:  ..\\..\\resources\\corpora\\2- Textos Extraidos\\Publicos\\IBICT-BDTD(extrator PUC)\\UFMG_BUBD-ADJQXK.txt\n"
     ]
    },
    {
     "name": "stderr",
     "output_type": "stream",
     "text": [
      "03/05/2020 09:37:31 AM:  ... ignorando arquivo vazio: UFMG_BUBD-AYJKUR.txt\n",
      "03/05/2020 09:37:39 AM:  ... ignorando arquivo vazio: UFMG_SFSA-A44S3D.txt\n",
      "03/05/2020 09:37:39 AM:  ... ignorando arquivo vazio: UFMG_SFSA-A9UJUM.txt\n"
     ]
    },
    {
     "name": "stdout",
     "output_type": "stream",
     "text": [
      "Erro ao ler o arquivo:  ..\\..\\resources\\corpora\\2- Textos Extraidos\\Publicos\\IBICT-BDTD(extrator PUC)\\UFMG_SFSA-A44S3D.txt\n",
      "Erro ao ler o arquivo:  ..\\..\\resources\\corpora\\2- Textos Extraidos\\Publicos\\IBICT-BDTD(extrator PUC)\\UFMG_SFSA-A9UJUM.txt\n"
     ]
    },
    {
     "name": "stderr",
     "output_type": "stream",
     "text": [
      "03/05/2020 09:37:46 AM:  ... ignorando arquivo vazio: UFPE_9_5192.txt\n"
     ]
    },
    {
     "name": "stdout",
     "output_type": "stream",
     "text": [
      "Erro ao ler o arquivo:  ..\\..\\resources\\corpora\\2- Textos Extraidos\\Publicos\\IBICT-BDTD(extrator PUC)\\UFPE_9_5192.txt\n"
     ]
    },
    {
     "name": "stderr",
     "output_type": "stream",
     "text": [
      "03/05/2020 09:37:49 AM:  ... ignorando arquivo vazio: UFPE_9_5447.txt\n"
     ]
    },
    {
     "name": "stdout",
     "output_type": "stream",
     "text": [
      "Erro ao ler o arquivo:  ..\\..\\resources\\corpora\\2- Textos Extraidos\\Publicos\\IBICT-BDTD(extrator PUC)\\UFPE_9_5447.txt\n"
     ]
    },
    {
     "name": "stderr",
     "output_type": "stream",
     "text": [
      "03/05/2020 09:37:50 AM:  ... ignorando arquivo vazio: UFPE_9_5696.txt\n",
      "03/05/2020 09:37:50 AM:  ... ignorando arquivo vazio: UFPE_9_5704.txt\n"
     ]
    },
    {
     "name": "stdout",
     "output_type": "stream",
     "text": [
      "Erro ao ler o arquivo:  ..\\..\\resources\\corpora\\2- Textos Extraidos\\Publicos\\IBICT-BDTD(extrator PUC)\\UFPE_9_5696.txt\n",
      "Erro ao ler o arquivo:  ..\\..\\resources\\corpora\\2- Textos Extraidos\\Publicos\\IBICT-BDTD(extrator PUC)\\UFPE_9_5704.txt\n"
     ]
    },
    {
     "name": "stderr",
     "output_type": "stream",
     "text": [
      "03/05/2020 09:37:52 AM:  ... ignorando arquivo vazio: UFPE_9_6038.txt\n"
     ]
    },
    {
     "name": "stdout",
     "output_type": "stream",
     "text": [
      "Erro ao ler o arquivo:  ..\\..\\resources\\corpora\\2- Textos Extraidos\\Publicos\\IBICT-BDTD(extrator PUC)\\UFPE_9_6038.txt\n"
     ]
    },
    {
     "name": "stderr",
     "output_type": "stream",
     "text": [
      "03/05/2020 09:37:54 AM:  ... ignorando arquivo vazio: UFPE_9_6563.txt\n"
     ]
    },
    {
     "name": "stdout",
     "output_type": "stream",
     "text": [
      "Erro ao ler o arquivo:  ..\\..\\resources\\corpora\\2- Textos Extraidos\\Publicos\\IBICT-BDTD(extrator PUC)\\UFPE_9_6563.txt\n"
     ]
    },
    {
     "name": "stderr",
     "output_type": "stream",
     "text": [
      "03/05/2020 09:37:59 AM:  ... ignorando arquivo vazio: UFPE__10801.txt\n"
     ]
    },
    {
     "name": "stdout",
     "output_type": "stream",
     "text": [
      "Erro ao ler o arquivo:  ..\\..\\resources\\corpora\\2- Textos Extraidos\\Publicos\\IBICT-BDTD(extrator PUC)\\UFPE__10801.txt\n"
     ]
    },
    {
     "name": "stderr",
     "output_type": "stream",
     "text": [
      "03/05/2020 09:38:00 AM:  ... ignorando arquivo vazio: UFPE__11199.txt\n",
      "03/05/2020 09:38:00 AM:  ... ignorando arquivo vazio: UFPE__11608.txt\n"
     ]
    },
    {
     "name": "stdout",
     "output_type": "stream",
     "text": [
      "Erro ao ler o arquivo:  ..\\..\\resources\\corpora\\2- Textos Extraidos\\Publicos\\IBICT-BDTD(extrator PUC)\\UFPE__11608.txt\n"
     ]
    },
    {
     "name": "stderr",
     "output_type": "stream",
     "text": [
      "03/05/2020 09:38:03 AM:  ... ignorando arquivo vazio: UFPE__12870.txt\n",
      "03/05/2020 09:38:04 AM:  ... ignorando arquivo vazio: UFPE__14911.txt\n"
     ]
    },
    {
     "name": "stdout",
     "output_type": "stream",
     "text": [
      "Erro ao ler o arquivo:  ..\\..\\resources\\corpora\\2- Textos Extraidos\\Publicos\\IBICT-BDTD(extrator PUC)\\UFPE__14911.txt\n"
     ]
    },
    {
     "name": "stderr",
     "output_type": "stream",
     "text": [
      "03/05/2020 09:38:05 AM:  ... ignorando arquivo vazio: UFPE__16475.txt\n"
     ]
    },
    {
     "name": "stdout",
     "output_type": "stream",
     "text": [
      "Erro ao ler o arquivo:  ..\\..\\resources\\corpora\\2- Textos Extraidos\\Publicos\\IBICT-BDTD(extrator PUC)\\UFPE__16475.txt\n"
     ]
    },
    {
     "name": "stderr",
     "output_type": "stream",
     "text": [
      "03/05/2020 09:38:05 AM:  ... ignorando arquivo vazio: UFPE__17177.txt\n",
      "03/05/2020 09:38:09 AM:  ... ignorando arquivo vazio: UFPE__24074.txt\n"
     ]
    },
    {
     "name": "stdout",
     "output_type": "stream",
     "text": [
      "Erro ao ler o arquivo:  ..\\..\\resources\\corpora\\2- Textos Extraidos\\Publicos\\IBICT-BDTD(extrator PUC)\\UFPE__24074.txt\n"
     ]
    },
    {
     "name": "stderr",
     "output_type": "stream",
     "text": [
      "03/05/2020 09:38:11 AM:  ... ignorando arquivo vazio: UFPE__26319.txt\n"
     ]
    },
    {
     "name": "stdout",
     "output_type": "stream",
     "text": [
      "Erro ao ler o arquivo:  ..\\..\\resources\\corpora\\2- Textos Extraidos\\Publicos\\IBICT-BDTD(extrator PUC)\\UFPE__26319.txt\n"
     ]
    },
    {
     "name": "stderr",
     "output_type": "stream",
     "text": [
      "03/05/2020 09:38:13 AM:  ... ignorando arquivo vazio: UFPE__29854.txt\n"
     ]
    },
    {
     "name": "stdout",
     "output_type": "stream",
     "text": [
      "Erro ao ler o arquivo:  ..\\..\\resources\\corpora\\2- Textos Extraidos\\Publicos\\IBICT-BDTD(extrator PUC)\\UFPE__29854.txt\n"
     ]
    },
    {
     "name": "stderr",
     "output_type": "stream",
     "text": [
      "03/05/2020 09:38:16 AM:  ... ignorando arquivo vazio: UFPE__34454.txt\n"
     ]
    },
    {
     "name": "stdout",
     "output_type": "stream",
     "text": [
      "Erro ao ler o arquivo:  ..\\..\\resources\\corpora\\2- Textos Extraidos\\Publicos\\IBICT-BDTD(extrator PUC)\\UFPE__34454.txt\n"
     ]
    },
    {
     "name": "stderr",
     "output_type": "stream",
     "text": [
      "03/05/2020 09:38:16 AM:  ... ignorando arquivo vazio: UFRGS_100167.txt\n",
      "03/05/2020 09:38:20 AM:  ... ignorando arquivo vazio: UFRGS_119392.txt\n"
     ]
    },
    {
     "name": "stdout",
     "output_type": "stream",
     "text": [
      "Erro ao ler o arquivo:  ..\\..\\resources\\corpora\\2- Textos Extraidos\\Publicos\\IBICT-BDTD(extrator PUC)\\UFRGS_119392.txt\n"
     ]
    },
    {
     "name": "stderr",
     "output_type": "stream",
     "text": [
      "03/05/2020 09:38:29 AM:  ... ignorando arquivo vazio: UFRGS_163890.txt\n"
     ]
    },
    {
     "name": "stdout",
     "output_type": "stream",
     "text": [
      "Erro ao ler o arquivo:  ..\\..\\resources\\corpora\\2- Textos Extraidos\\Publicos\\IBICT-BDTD(extrator PUC)\\UFRGS_163890.txt\n"
     ]
    },
    {
     "name": "stderr",
     "output_type": "stream",
     "text": [
      "03/05/2020 09:38:29 AM:  ... ignorando arquivo vazio: UFRGS_172054.txt\n",
      "03/05/2020 09:38:29 AM:  ... ignorando arquivo vazio: UFRGS_172287.txt\n"
     ]
    },
    {
     "name": "stdout",
     "output_type": "stream",
     "text": [
      "Erro ao ler o arquivo:  ..\\..\\resources\\corpora\\2- Textos Extraidos\\Publicos\\IBICT-BDTD(extrator PUC)\\UFRGS_172054.txt\n",
      "Erro ao ler o arquivo:  ..\\..\\resources\\corpora\\2- Textos Extraidos\\Publicos\\IBICT-BDTD(extrator PUC)\\UFRGS_172287.txt\n"
     ]
    },
    {
     "name": "stderr",
     "output_type": "stream",
     "text": [
      "03/05/2020 09:38:30 AM:  ... ignorando arquivo vazio: UFRGS_178258.txt\n"
     ]
    },
    {
     "name": "stdout",
     "output_type": "stream",
     "text": [
      "Erro ao ler o arquivo:  ..\\..\\resources\\corpora\\2- Textos Extraidos\\Publicos\\IBICT-BDTD(extrator PUC)\\UFRGS_178258.txt\n"
     ]
    },
    {
     "name": "stderr",
     "output_type": "stream",
     "text": [
      "03/05/2020 09:38:30 AM:  ... ignorando arquivo vazio: UFRGS_179650.txt\n"
     ]
    },
    {
     "name": "stdout",
     "output_type": "stream",
     "text": [
      "Erro ao ler o arquivo:  ..\\..\\resources\\corpora\\2- Textos Extraidos\\Publicos\\IBICT-BDTD(extrator PUC)\\UFRGS_179650.txt\n"
     ]
    },
    {
     "name": "stderr",
     "output_type": "stream",
     "text": [
      "03/05/2020 09:38:32 AM:  ... ignorando arquivo vazio: UFRGS_190188.txt\n"
     ]
    },
    {
     "name": "stdout",
     "output_type": "stream",
     "text": [
      "Erro ao ler o arquivo:  ..\\..\\resources\\corpora\\2- Textos Extraidos\\Publicos\\IBICT-BDTD(extrator PUC)\\UFRGS_190188.txt\n"
     ]
    },
    {
     "name": "stderr",
     "output_type": "stream",
     "text": [
      "03/05/2020 09:38:39 AM:  ... ignorando arquivo vazio: UFRGS_3_5778.txt\n"
     ]
    },
    {
     "name": "stdout",
     "output_type": "stream",
     "text": [
      "Erro ao ler o arquivo:  ..\\..\\resources\\corpora\\2- Textos Extraidos\\Publicos\\IBICT-BDTD(extrator PUC)\\UFRGS_3_5778.txt\n"
     ]
    },
    {
     "name": "stderr",
     "output_type": "stream",
     "text": [
      "03/05/2020 09:38:46 AM:  ... ignorando arquivo vazio: UFRGS__17039.txt\n"
     ]
    },
    {
     "name": "stdout",
     "output_type": "stream",
     "text": [
      "Erro ao ler o arquivo:  ..\\..\\resources\\corpora\\2- Textos Extraidos\\Publicos\\IBICT-BDTD(extrator PUC)\\UFRGS__17039.txt\n"
     ]
    },
    {
     "name": "stderr",
     "output_type": "stream",
     "text": [
      "03/05/2020 09:39:01 AM:  ... ignorando arquivo vazio: UFRN__12684.txt\n"
     ]
    },
    {
     "name": "stdout",
     "output_type": "stream",
     "text": [
      "Erro ao ler o arquivo:  ..\\..\\resources\\corpora\\2- Textos Extraidos\\Publicos\\IBICT-BDTD(extrator PUC)\\UFRN__12684.txt\n"
     ]
    },
    {
     "name": "stderr",
     "output_type": "stream",
     "text": [
      "03/05/2020 09:39:03 AM:  ... ignorando arquivo vazio: UFRN__12790.txt\n",
      "03/05/2020 09:39:05 AM:  ... ignorando arquivo vazio: UFRN__12887.txt\n"
     ]
    },
    {
     "name": "stdout",
     "output_type": "stream",
     "text": [
      "Erro ao ler o arquivo:  ..\\..\\resources\\corpora\\2- Textos Extraidos\\Publicos\\IBICT-BDTD(extrator PUC)\\UFRN__12887.txt\n"
     ]
    },
    {
     "name": "stderr",
     "output_type": "stream",
     "text": [
      "03/05/2020 09:39:08 AM:  ... ignorando arquivo vazio: UFRN__12968.txt\n"
     ]
    },
    {
     "name": "stdout",
     "output_type": "stream",
     "text": [
      "Erro ao ler o arquivo:  ..\\..\\resources\\corpora\\2- Textos Extraidos\\Publicos\\IBICT-BDTD(extrator PUC)\\UFRN__12968.txt\n"
     ]
    },
    {
     "name": "stderr",
     "output_type": "stream",
     "text": [
      "03/05/2020 09:39:18 AM:  ... ignorando arquivo vazio: UFRN__14067.txt\n"
     ]
    },
    {
     "name": "stdout",
     "output_type": "stream",
     "text": [
      "Erro ao ler o arquivo:  ..\\..\\resources\\corpora\\2- Textos Extraidos\\Publicos\\IBICT-BDTD(extrator PUC)\\UFRN__14067.txt\n"
     ]
    },
    {
     "name": "stderr",
     "output_type": "stream",
     "text": [
      "03/05/2020 09:39:24 AM:  ... ignorando arquivo vazio: UFRN__15798.txt\n"
     ]
    },
    {
     "name": "stdout",
     "output_type": "stream",
     "text": [
      "Erro ao ler o arquivo:  ..\\..\\resources\\corpora\\2- Textos Extraidos\\Publicos\\IBICT-BDTD(extrator PUC)\\UFRN__15798.txt\n"
     ]
    },
    {
     "name": "stderr",
     "output_type": "stream",
     "text": [
      "03/05/2020 09:39:26 AM:  ... ignorando arquivo vazio: UFRN__15884.txt\n"
     ]
    },
    {
     "name": "stdout",
     "output_type": "stream",
     "text": [
      "Erro ao ler o arquivo:  ..\\..\\resources\\corpora\\2- Textos Extraidos\\Publicos\\IBICT-BDTD(extrator PUC)\\UFRN__15884.txt\n"
     ]
    },
    {
     "name": "stderr",
     "output_type": "stream",
     "text": [
      "03/05/2020 09:39:28 AM:  ... ignorando arquivo vazio: UFRN__15939.txt\n"
     ]
    },
    {
     "name": "stdout",
     "output_type": "stream",
     "text": [
      "Erro ao ler o arquivo:  ..\\..\\resources\\corpora\\2- Textos Extraidos\\Publicos\\IBICT-BDTD(extrator PUC)\\UFRN__15939.txt\n"
     ]
    },
    {
     "name": "stderr",
     "output_type": "stream",
     "text": [
      "03/05/2020 09:39:29 AM:  ... ignorando arquivo vazio: UFRN__17609.txt\n"
     ]
    },
    {
     "name": "stdout",
     "output_type": "stream",
     "text": [
      "Erro ao ler o arquivo:  ..\\..\\resources\\corpora\\2- Textos Extraidos\\Publicos\\IBICT-BDTD(extrator PUC)\\UFRN__17609.txt\n"
     ]
    },
    {
     "name": "stderr",
     "output_type": "stream",
     "text": [
      "03/05/2020 09:39:33 AM:  ... ignorando arquivo vazio: UFRN__17996.txt\n",
      "03/05/2020 09:39:33 AM:  ... ignorando arquivo vazio: UFRN__18041.txt\n"
     ]
    },
    {
     "name": "stdout",
     "output_type": "stream",
     "text": [
      "Erro ao ler o arquivo:  ..\\..\\resources\\corpora\\2- Textos Extraidos\\Publicos\\IBICT-BDTD(extrator PUC)\\UFRN__17996.txt\n",
      "Erro ao ler o arquivo:  ..\\..\\resources\\corpora\\2- Textos Extraidos\\Publicos\\IBICT-BDTD(extrator PUC)\\UFRN__18041.txt\n"
     ]
    },
    {
     "name": "stderr",
     "output_type": "stream",
     "text": [
      "03/05/2020 09:39:36 AM:  ... ignorando arquivo vazio: UFRN__18829.txt\n"
     ]
    },
    {
     "name": "stdout",
     "output_type": "stream",
     "text": [
      "Erro ao ler o arquivo:  ..\\..\\resources\\corpora\\2- Textos Extraidos\\Publicos\\IBICT-BDTD(extrator PUC)\\UFRN__18829.txt\n"
     ]
    },
    {
     "name": "stderr",
     "output_type": "stream",
     "text": [
      "03/05/2020 09:39:37 AM:  ... ignorando arquivo vazio: UFRN__21437.txt\n"
     ]
    },
    {
     "name": "stdout",
     "output_type": "stream",
     "text": [
      "Erro ao ler o arquivo:  ..\\..\\resources\\corpora\\2- Textos Extraidos\\Publicos\\IBICT-BDTD(extrator PUC)\\UFRN__21437.txt\n"
     ]
    },
    {
     "name": "stderr",
     "output_type": "stream",
     "text": [
      "03/05/2020 09:39:39 AM:  ... ignorando arquivo vazio: UFRN__21946.txt\n"
     ]
    },
    {
     "name": "stdout",
     "output_type": "stream",
     "text": [
      "Erro ao ler o arquivo:  ..\\..\\resources\\corpora\\2- Textos Extraidos\\Publicos\\IBICT-BDTD(extrator PUC)\\UFRN__21946.txt\n"
     ]
    },
    {
     "name": "stderr",
     "output_type": "stream",
     "text": [
      "03/05/2020 09:39:40 AM:  ... ignorando arquivo vazio: UFRN__22005.txt\n",
      "03/05/2020 09:39:40 AM:  ... ignorando arquivo vazio: UFRN__22096.txt\n"
     ]
    },
    {
     "name": "stdout",
     "output_type": "stream",
     "text": [
      "Erro ao ler o arquivo:  ..\\..\\resources\\corpora\\2- Textos Extraidos\\Publicos\\IBICT-BDTD(extrator PUC)\\UFRN__22096.txt\n"
     ]
    },
    {
     "name": "stderr",
     "output_type": "stream",
     "text": [
      "03/05/2020 09:39:42 AM:  ... ignorando arquivo vazio: UFRN__23389.txt\n"
     ]
    },
    {
     "name": "stdout",
     "output_type": "stream",
     "text": [
      "Erro ao ler o arquivo:  ..\\..\\resources\\corpora\\2- Textos Extraidos\\Publicos\\IBICT-BDTD(extrator PUC)\\UFRN__23389.txt\n"
     ]
    },
    {
     "name": "stderr",
     "output_type": "stream",
     "text": [
      "03/05/2020 09:39:42 AM:  ... ignorando arquivo vazio: UFRN__23658.txt\n"
     ]
    },
    {
     "name": "stdout",
     "output_type": "stream",
     "text": [
      "Erro ao ler o arquivo:  ..\\..\\resources\\corpora\\2- Textos Extraidos\\Publicos\\IBICT-BDTD(extrator PUC)\\UFRN__23658.txt\n"
     ]
    },
    {
     "name": "stderr",
     "output_type": "stream",
     "text": [
      "03/05/2020 09:39:43 AM:  ... ignorando arquivo vazio: UFRN__23878.txt\n"
     ]
    },
    {
     "name": "stdout",
     "output_type": "stream",
     "text": [
      "Erro ao ler o arquivo:  ..\\..\\resources\\corpora\\2- Textos Extraidos\\Publicos\\IBICT-BDTD(extrator PUC)\\UFRN__23878.txt\n"
     ]
    },
    {
     "name": "stderr",
     "output_type": "stream",
     "text": [
      "03/05/2020 09:39:44 AM:  ... ignorando arquivo vazio: UFRN__24149.txt\n"
     ]
    },
    {
     "name": "stdout",
     "output_type": "stream",
     "text": [
      "Erro ao ler o arquivo:  ..\\..\\resources\\corpora\\2- Textos Extraidos\\Publicos\\IBICT-BDTD(extrator PUC)\\UFRN__24149.txt\n"
     ]
    },
    {
     "name": "stderr",
     "output_type": "stream",
     "text": [
      "03/05/2020 09:39:45 AM:  ... ignorando arquivo vazio: UFRN__24490.txt\n",
      "03/05/2020 09:39:45 AM:  ... ignorando arquivo vazio: UFRN__24504.txt\n"
     ]
    },
    {
     "name": "stdout",
     "output_type": "stream",
     "text": [
      "Erro ao ler o arquivo:  ..\\..\\resources\\corpora\\2- Textos Extraidos\\Publicos\\IBICT-BDTD(extrator PUC)\\UFRN__24490.txt\n",
      "Erro ao ler o arquivo:  ..\\..\\resources\\corpora\\2- Textos Extraidos\\Publicos\\IBICT-BDTD(extrator PUC)\\UFRN__24504.txt\n"
     ]
    },
    {
     "name": "stderr",
     "output_type": "stream",
     "text": [
      "03/05/2020 09:39:57 AM:  ... ignorando arquivo vazio: UFSCAR_r_8486.txt\n"
     ]
    },
    {
     "name": "stdout",
     "output_type": "stream",
     "text": [
      "Erro ao ler o arquivo:  ..\\..\\resources\\corpora\\2- Textos Extraidos\\Publicos\\IBICT-BDTD(extrator PUC)\\UFSCAR_r_8486.txt\n"
     ]
    },
    {
     "name": "stderr",
     "output_type": "stream",
     "text": [
      "03/05/2020 09:39:59 AM:  ... ignorando arquivo vazio: UFSCAR_r_9955.txt\n"
     ]
    },
    {
     "name": "stdout",
     "output_type": "stream",
     "text": [
      "Erro ao ler o arquivo:  ..\\..\\resources\\corpora\\2- Textos Extraidos\\Publicos\\IBICT-BDTD(extrator PUC)\\UFSCAR_r_9955.txt\n"
     ]
    },
    {
     "name": "stderr",
     "output_type": "stream",
     "text": [
      "03/05/2020 09:39:59 AM:  ... ignorando arquivo vazio: UFSCAR__10778.txt\n"
     ]
    },
    {
     "name": "stdout",
     "output_type": "stream",
     "text": [
      "Erro ao ler o arquivo:  ..\\..\\resources\\corpora\\2- Textos Extraidos\\Publicos\\IBICT-BDTD(extrator PUC)\\UFSCAR__10778.txt\n"
     ]
    },
    {
     "name": "stderr",
     "output_type": "stream",
     "text": [
      "03/05/2020 09:40:01 AM:  ... ignorando arquivo vazio: UFSC_122728.txt\n"
     ]
    },
    {
     "name": "stdout",
     "output_type": "stream",
     "text": [
      "Erro ao ler o arquivo:  ..\\..\\resources\\corpora\\2- Textos Extraidos\\Publicos\\IBICT-BDTD(extrator PUC)\\UFSC_122728.txt\n"
     ]
    },
    {
     "name": "stderr",
     "output_type": "stream",
     "text": [
      "03/05/2020 09:40:07 AM:  ... ignorando arquivo vazio: UFSC_169483.txt\n"
     ]
    },
    {
     "name": "stdout",
     "output_type": "stream",
     "text": [
      "Erro ao ler o arquivo:  ..\\..\\resources\\corpora\\2- Textos Extraidos\\Publicos\\IBICT-BDTD(extrator PUC)\\UFSC_169483.txt\n"
     ]
    },
    {
     "name": "stderr",
     "output_type": "stream",
     "text": [
      "03/05/2020 09:40:15 AM:  ... ignorando arquivo vazio: UFSC__85714.txt\n"
     ]
    },
    {
     "name": "stdout",
     "output_type": "stream",
     "text": [
      "Erro ao ler o arquivo:  ..\\..\\resources\\corpora\\2- Textos Extraidos\\Publicos\\IBICT-BDTD(extrator PUC)\\UFSC__85714.txt\n"
     ]
    },
    {
     "name": "stderr",
     "output_type": "stream",
     "text": [
      "03/05/2020 09:40:16 AM:  ... ignorando arquivo vazio: UFSC__87113.txt\n"
     ]
    },
    {
     "name": "stdout",
     "output_type": "stream",
     "text": [
      "Erro ao ler o arquivo:  ..\\..\\resources\\corpora\\2- Textos Extraidos\\Publicos\\IBICT-BDTD(extrator PUC)\\UFSC__87113.txt\n"
     ]
    },
    {
     "name": "stderr",
     "output_type": "stream",
     "text": [
      "03/05/2020 09:40:17 AM:  ... ignorando arquivo vazio: UFSC__88595.txt\n"
     ]
    },
    {
     "name": "stdout",
     "output_type": "stream",
     "text": [
      "Erro ao ler o arquivo:  ..\\..\\resources\\corpora\\2- Textos Extraidos\\Publicos\\IBICT-BDTD(extrator PUC)\\UFSC__88595.txt\n"
     ]
    },
    {
     "name": "stderr",
     "output_type": "stream",
     "text": [
      "03/05/2020 09:40:17 AM:  ... ignorando arquivo vazio: UFSC__88955.txt\n"
     ]
    },
    {
     "name": "stdout",
     "output_type": "stream",
     "text": [
      "Erro ao ler o arquivo:  ..\\..\\resources\\corpora\\2- Textos Extraidos\\Publicos\\IBICT-BDTD(extrator PUC)\\UFSC__88955.txt\n"
     ]
    },
    {
     "name": "stderr",
     "output_type": "stream",
     "text": [
      "03/05/2020 09:40:19 AM:  ... ignorando arquivo vazio: UFSC__90211.txt\n"
     ]
    },
    {
     "name": "stdout",
     "output_type": "stream",
     "text": [
      "Erro ao ler o arquivo:  ..\\..\\resources\\corpora\\2- Textos Extraidos\\Publicos\\IBICT-BDTD(extrator PUC)\\UFSC__90211.txt\n"
     ]
    },
    {
     "name": "stderr",
     "output_type": "stream",
     "text": [
      "03/05/2020 09:40:20 AM:  ... ignorando arquivo vazio: UFSC__91419.txt\n",
      "03/05/2020 09:40:22 AM:  ... ignorando arquivo vazio: UFSC__93236.txt\n"
     ]
    },
    {
     "name": "stdout",
     "output_type": "stream",
     "text": [
      "Erro ao ler o arquivo:  ..\\..\\resources\\corpora\\2- Textos Extraidos\\Publicos\\IBICT-BDTD(extrator PUC)\\UFSC__93236.txt\n"
     ]
    },
    {
     "name": "stderr",
     "output_type": "stream",
     "text": [
      "03/05/2020 09:40:23 AM:  ... ignorando arquivo vazio: UFSC__95213.txt\n"
     ]
    },
    {
     "name": "stdout",
     "output_type": "stream",
     "text": [
      "Erro ao ler o arquivo:  ..\\..\\resources\\corpora\\2- Textos Extraidos\\Publicos\\IBICT-BDTD(extrator PUC)\\UFSC__95213.txt\n"
     ]
    },
    {
     "name": "stderr",
     "output_type": "stream",
     "text": [
      "03/05/2020 09:40:26 AM:  ... ignorando arquivo vazio: UFS_s_5018.txt\n"
     ]
    },
    {
     "name": "stdout",
     "output_type": "stream",
     "text": [
      "Erro ao ler o arquivo:  ..\\..\\resources\\corpora\\2- Textos Extraidos\\Publicos\\IBICT-BDTD(extrator PUC)\\UFS_s_5018.txt\n"
     ]
    },
    {
     "name": "stderr",
     "output_type": "stream",
     "text": [
      "03/05/2020 09:40:31 AM:  ... ignorando arquivo vazio: UFS__11487.txt\n"
     ]
    },
    {
     "name": "stdout",
     "output_type": "stream",
     "text": [
      "Erro ao ler o arquivo:  ..\\..\\resources\\corpora\\2- Textos Extraidos\\Publicos\\IBICT-BDTD(extrator PUC)\\UFS__11487.txt\n"
     ]
    },
    {
     "name": "stderr",
     "output_type": "stream",
     "text": [
      "03/05/2020 09:40:32 AM:  ... ignorando arquivo vazio: UNB__30986.txt\n"
     ]
    },
    {
     "name": "stdout",
     "output_type": "stream",
     "text": [
      "Erro ao ler o arquivo:  ..\\..\\resources\\corpora\\2- Textos Extraidos\\Publicos\\IBICT-BDTD(extrator PUC)\\UNB__30986.txt\n"
     ]
    },
    {
     "name": "stderr",
     "output_type": "stream",
     "text": [
      "03/05/2020 09:40:33 AM:  ... ignorando arquivo vazio: UNB__32983.txt\n"
     ]
    },
    {
     "name": "stdout",
     "output_type": "stream",
     "text": [
      "Erro ao ler o arquivo:  ..\\..\\resources\\corpora\\2- Textos Extraidos\\Publicos\\IBICT-BDTD(extrator PUC)\\UNB__32983.txt\n"
     ]
    },
    {
     "name": "stderr",
     "output_type": "stream",
     "text": [
      "03/05/2020 09:40:36 AM:  ... ignorando arquivo vazio: UNESP_103053.txt\n"
     ]
    },
    {
     "name": "stdout",
     "output_type": "stream",
     "text": [
      "Erro ao ler o arquivo:  ..\\..\\resources\\corpora\\2- Textos Extraidos\\Publicos\\IBICT-BDTD(extrator PUC)\\UNESP_103053.txt\n"
     ]
    },
    {
     "name": "stderr",
     "output_type": "stream",
     "text": [
      "03/05/2020 09:40:37 AM:  ... ignorando arquivo vazio: UNESP_105356.txt\n"
     ]
    },
    {
     "name": "stdout",
     "output_type": "stream",
     "text": [
      "Erro ao ler o arquivo:  ..\\..\\resources\\corpora\\2- Textos Extraidos\\Publicos\\IBICT-BDTD(extrator PUC)\\UNESP_105356.txt\n"
     ]
    },
    {
     "name": "stderr",
     "output_type": "stream",
     "text": [
      "03/05/2020 09:40:38 AM:  ... ignorando arquivo vazio: UNESP_106441.txt\n"
     ]
    },
    {
     "name": "stdout",
     "output_type": "stream",
     "text": [
      "Erro ao ler o arquivo:  ..\\..\\resources\\corpora\\2- Textos Extraidos\\Publicos\\IBICT-BDTD(extrator PUC)\\UNESP_106441.txt\n"
     ]
    },
    {
     "name": "stderr",
     "output_type": "stream",
     "text": [
      "03/05/2020 09:40:39 AM:  ... ignorando arquivo vazio: UNESP_106459.txt\n"
     ]
    },
    {
     "name": "stdout",
     "output_type": "stream",
     "text": [
      "Erro ao ler o arquivo:  ..\\..\\resources\\corpora\\2- Textos Extraidos\\Publicos\\IBICT-BDTD(extrator PUC)\\UNESP_106459.txt\n"
     ]
    },
    {
     "name": "stderr",
     "output_type": "stream",
     "text": [
      "03/05/2020 09:40:40 AM:  ... ignorando arquivo vazio: UNESP_115997.txt\n",
      "03/05/2020 09:40:40 AM:  ... ignorando arquivo vazio: UNESP_121844.txt\n"
     ]
    },
    {
     "name": "stdout",
     "output_type": "stream",
     "text": [
      "Erro ao ler o arquivo:  ..\\..\\resources\\corpora\\2- Textos Extraidos\\Publicos\\IBICT-BDTD(extrator PUC)\\UNESP_115997.txt\n",
      "Erro ao ler o arquivo:  ..\\..\\resources\\corpora\\2- Textos Extraidos\\Publicos\\IBICT-BDTD(extrator PUC)\\UNESP_121844.txt\n"
     ]
    },
    {
     "name": "stderr",
     "output_type": "stream",
     "text": [
      "03/05/2020 09:40:41 AM:  ... ignorando arquivo vazio: UNESP_134302.txt\n",
      "03/05/2020 09:40:42 AM:  ... ignorando arquivo vazio: UNESP_140148.txt\n"
     ]
    },
    {
     "name": "stdout",
     "output_type": "stream",
     "text": [
      "Erro ao ler o arquivo:  ..\\..\\resources\\corpora\\2- Textos Extraidos\\Publicos\\IBICT-BDTD(extrator PUC)\\UNESP_140148.txt\n"
     ]
    },
    {
     "name": "stderr",
     "output_type": "stream",
     "text": [
      "03/05/2020 09:40:45 AM:  ... ignorando arquivo vazio: UNESP_151847.txt\n",
      "03/05/2020 09:40:57 AM:  ... ignorando arquivo vazio: UNESP__97031.txt\n"
     ]
    },
    {
     "name": "stdout",
     "output_type": "stream",
     "text": [
      "Erro ao ler o arquivo:  ..\\..\\resources\\corpora\\2- Textos Extraidos\\Publicos\\IBICT-BDTD(extrator PUC)\\UNESP__97031.txt\n"
     ]
    },
    {
     "name": "stderr",
     "output_type": "stream",
     "text": [
      "03/05/2020 09:40:59 AM:  ... ignorando arquivo vazio: UNESP__99293.txt\n"
     ]
    },
    {
     "name": "stdout",
     "output_type": "stream",
     "text": [
      "Erro ao ler o arquivo:  ..\\..\\resources\\corpora\\2- Textos Extraidos\\Publicos\\IBICT-BDTD(extrator PUC)\\UNESP__99293.txt\n"
     ]
    },
    {
     "name": "stderr",
     "output_type": "stream",
     "text": [
      "03/05/2020 09:41:05 AM:  ... ignorando arquivo vazio: UNICAMP_257970.txt\n",
      "03/05/2020 09:41:07 AM:  ... ignorando arquivo vazio: UNICAMP_261160.txt\n"
     ]
    },
    {
     "name": "stdout",
     "output_type": "stream",
     "text": [
      "Erro ao ler o arquivo:  ..\\..\\resources\\corpora\\2- Textos Extraidos\\Publicos\\IBICT-BDTD(extrator PUC)\\UNICAMP_261160.txt\n"
     ]
    },
    {
     "name": "stderr",
     "output_type": "stream",
     "text": [
      "03/05/2020 09:41:09 AM:  ... ignorando arquivo vazio: UNICAMP_262972.txt\n"
     ]
    },
    {
     "name": "stdout",
     "output_type": "stream",
     "text": [
      "Erro ao ler o arquivo:  ..\\..\\resources\\corpora\\2- Textos Extraidos\\Publicos\\IBICT-BDTD(extrator PUC)\\UNICAMP_262972.txt\n"
     ]
    },
    {
     "name": "stderr",
     "output_type": "stream",
     "text": [
      "03/05/2020 09:41:10 AM:  ... ignorando arquivo vazio: UNICAMP_263081.txt\n"
     ]
    },
    {
     "name": "stdout",
     "output_type": "stream",
     "text": [
      "Erro ao ler o arquivo:  ..\\..\\resources\\corpora\\2- Textos Extraidos\\Publicos\\IBICT-BDTD(extrator PUC)\\UNICAMP_263081.txt\n"
     ]
    },
    {
     "name": "stderr",
     "output_type": "stream",
     "text": [
      "03/05/2020 09:41:11 AM:  ... ignorando arquivo vazio: UNICAMP_263123.txt\n"
     ]
    },
    {
     "name": "stdout",
     "output_type": "stream",
     "text": [
      "Erro ao ler o arquivo:  ..\\..\\resources\\corpora\\2- Textos Extraidos\\Publicos\\IBICT-BDTD(extrator PUC)\\UNICAMP_263123.txt\n"
     ]
    },
    {
     "name": "stderr",
     "output_type": "stream",
     "text": [
      "03/05/2020 09:41:11 AM:  ... ignorando arquivo vazio: UNICAMP_263224.txt\n"
     ]
    },
    {
     "name": "stdout",
     "output_type": "stream",
     "text": [
      "Erro ao ler o arquivo:  ..\\..\\resources\\corpora\\2- Textos Extraidos\\Publicos\\IBICT-BDTD(extrator PUC)\\UNICAMP_263224.txt\n"
     ]
    },
    {
     "name": "stderr",
     "output_type": "stream",
     "text": [
      "03/05/2020 09:41:12 AM:  ... ignorando arquivo vazio: UNICAMP_263465.txt\n"
     ]
    },
    {
     "name": "stdout",
     "output_type": "stream",
     "text": [
      "Erro ao ler o arquivo:  ..\\..\\resources\\corpora\\2- Textos Extraidos\\Publicos\\IBICT-BDTD(extrator PUC)\\UNICAMP_263465.txt\n"
     ]
    },
    {
     "name": "stderr",
     "output_type": "stream",
     "text": [
      "03/05/2020 09:41:14 AM:  ... ignorando arquivo vazio: UNICAMP_263713.txt\n",
      "03/05/2020 09:41:18 AM:  ... ignorando arquivo vazio: UNICAMP_263999.txt\n"
     ]
    },
    {
     "name": "stdout",
     "output_type": "stream",
     "text": [
      "Erro ao ler o arquivo:  ..\\..\\resources\\corpora\\2- Textos Extraidos\\Publicos\\IBICT-BDTD(extrator PUC)\\UNICAMP_263999.txt\n"
     ]
    },
    {
     "name": "stderr",
     "output_type": "stream",
     "text": [
      "03/05/2020 09:41:19 AM:  ... ignorando arquivo vazio: UNICAMP_264295.txt\n"
     ]
    },
    {
     "name": "stdout",
     "output_type": "stream",
     "text": [
      "Erro ao ler o arquivo:  ..\\..\\resources\\corpora\\2- Textos Extraidos\\Publicos\\IBICT-BDTD(extrator PUC)\\UNICAMP_264295.txt\n"
     ]
    },
    {
     "name": "stderr",
     "output_type": "stream",
     "text": [
      "03/05/2020 09:41:20 AM:  ... ignorando arquivo vazio: UNICAMP_264461.txt\n"
     ]
    },
    {
     "name": "stdout",
     "output_type": "stream",
     "text": [
      "Erro ao ler o arquivo:  ..\\..\\resources\\corpora\\2- Textos Extraidos\\Publicos\\IBICT-BDTD(extrator PUC)\\UNICAMP_264461.txt\n"
     ]
    },
    {
     "name": "stderr",
     "output_type": "stream",
     "text": [
      "03/05/2020 09:41:21 AM:  ... ignorando arquivo vazio: UNICAMP_264613.txt\n",
      "03/05/2020 09:41:26 AM:  ... ignorando arquivo vazio: UNICAMP_265542.txt\n"
     ]
    },
    {
     "name": "stdout",
     "output_type": "stream",
     "text": [
      "Erro ao ler o arquivo:  ..\\..\\resources\\corpora\\2- Textos Extraidos\\Publicos\\IBICT-BDTD(extrator PUC)\\UNICAMP_265542.txt\n"
     ]
    },
    {
     "name": "stderr",
     "output_type": "stream",
     "text": [
      "03/05/2020 09:41:27 AM:  ... ignorando arquivo vazio: UNICAMP_265757.txt\n",
      "03/05/2020 09:41:28 AM:  ... ignorando arquivo vazio: UNICAMP_265794.txt\n"
     ]
    },
    {
     "name": "stdout",
     "output_type": "stream",
     "text": [
      "Erro ao ler o arquivo:  ..\\..\\resources\\corpora\\2- Textos Extraidos\\Publicos\\IBICT-BDTD(extrator PUC)\\UNICAMP_265794.txt\n"
     ]
    },
    {
     "name": "stderr",
     "output_type": "stream",
     "text": [
      "03/05/2020 09:41:30 AM:  ... ignorando arquivo vazio: UNICAMP_265874.txt\n"
     ]
    },
    {
     "name": "stdout",
     "output_type": "stream",
     "text": [
      "Erro ao ler o arquivo:  ..\\..\\resources\\corpora\\2- Textos Extraidos\\Publicos\\IBICT-BDTD(extrator PUC)\\UNICAMP_265874.txt\n"
     ]
    },
    {
     "name": "stderr",
     "output_type": "stream",
     "text": [
      "03/05/2020 09:41:35 AM:  ... ignorando arquivo vazio: UNICAMP_266246.txt\n"
     ]
    },
    {
     "name": "stdout",
     "output_type": "stream",
     "text": [
      "Erro ao ler o arquivo:  ..\\..\\resources\\corpora\\2- Textos Extraidos\\Publicos\\IBICT-BDTD(extrator PUC)\\UNICAMP_266246.txt\n"
     ]
    },
    {
     "name": "stderr",
     "output_type": "stream",
     "text": [
      "03/05/2020 09:41:37 AM:  ... ignorando arquivo vazio: UNICAMP_266397.txt\n"
     ]
    },
    {
     "name": "stdout",
     "output_type": "stream",
     "text": [
      "Erro ao ler o arquivo:  ..\\..\\resources\\corpora\\2- Textos Extraidos\\Publicos\\IBICT-BDTD(extrator PUC)\\UNICAMP_266397.txt\n"
     ]
    },
    {
     "name": "stderr",
     "output_type": "stream",
     "text": [
      "03/05/2020 09:41:38 AM:  ... ignorando arquivo vazio: UNICAMP_266581.txt\n"
     ]
    },
    {
     "name": "stdout",
     "output_type": "stream",
     "text": [
      "Erro ao ler o arquivo:  ..\\..\\resources\\corpora\\2- Textos Extraidos\\Publicos\\IBICT-BDTD(extrator PUC)\\UNICAMP_266581.txt\n"
     ]
    },
    {
     "name": "stderr",
     "output_type": "stream",
     "text": [
      "03/05/2020 09:41:40 AM:  ... ignorando arquivo vazio: UNICAMP_266740.txt\n"
     ]
    },
    {
     "name": "stdout",
     "output_type": "stream",
     "text": [
      "Erro ao ler o arquivo:  ..\\..\\resources\\corpora\\2- Textos Extraidos\\Publicos\\IBICT-BDTD(extrator PUC)\\UNICAMP_266740.txt\n"
     ]
    },
    {
     "name": "stderr",
     "output_type": "stream",
     "text": [
      "03/05/2020 09:42:03 AM:  ... ignorando arquivo vazio: UNICAMP_307021.txt\n"
     ]
    },
    {
     "name": "stdout",
     "output_type": "stream",
     "text": [
      "Erro ao ler o arquivo:  ..\\..\\resources\\corpora\\2- Textos Extraidos\\Publicos\\IBICT-BDTD(extrator PUC)\\UNICAMP_307021.txt\n"
     ]
    },
    {
     "name": "stderr",
     "output_type": "stream",
     "text": [
      "03/05/2020 09:42:06 AM:  ... ignorando arquivo vazio: USP_tde-01082007-173551.txt\n"
     ]
    },
    {
     "name": "stdout",
     "output_type": "stream",
     "text": [
      "Erro ao ler o arquivo:  ..\\..\\resources\\corpora\\2- Textos Extraidos\\Publicos\\IBICT-BDTD(extrator PUC)\\USP_tde-01082007-173551.txt\n"
     ]
    },
    {
     "name": "stderr",
     "output_type": "stream",
     "text": [
      "03/05/2020 09:42:08 AM:  ... ignorando arquivo vazio: USP_tde-02042008-133036.txt\n",
      "03/05/2020 09:42:08 AM:  ... ignorando arquivo vazio: USP_tde-02062009-170131.txt\n",
      "03/05/2020 09:42:08 AM:  ... ignorando arquivo vazio: USP_tde-02062016-152009.txt\n"
     ]
    },
    {
     "name": "stdout",
     "output_type": "stream",
     "text": [
      "Erro ao ler o arquivo:  ..\\..\\resources\\corpora\\2- Textos Extraidos\\Publicos\\IBICT-BDTD(extrator PUC)\\USP_tde-02042008-133036.txt\n",
      "Erro ao ler o arquivo:  ..\\..\\resources\\corpora\\2- Textos Extraidos\\Publicos\\IBICT-BDTD(extrator PUC)\\USP_tde-02062009-170131.txt\n",
      "Erro ao ler o arquivo:  ..\\..\\resources\\corpora\\2- Textos Extraidos\\Publicos\\IBICT-BDTD(extrator PUC)\\USP_tde-02062016-152009.txt\n"
     ]
    },
    {
     "name": "stderr",
     "output_type": "stream",
     "text": [
      "03/05/2020 09:42:08 AM:  ... ignorando arquivo vazio: USP_tde-03022009-095000.txt\n"
     ]
    },
    {
     "name": "stdout",
     "output_type": "stream",
     "text": [
      "Erro ao ler o arquivo:  ..\\..\\resources\\corpora\\2- Textos Extraidos\\Publicos\\IBICT-BDTD(extrator PUC)\\USP_tde-03022009-095000.txt\n"
     ]
    },
    {
     "name": "stderr",
     "output_type": "stream",
     "text": [
      "03/05/2020 09:42:10 AM:  ... ignorando arquivo vazio: USP_tde-03102013-142858.txt\n"
     ]
    },
    {
     "name": "stdout",
     "output_type": "stream",
     "text": [
      "Erro ao ler o arquivo:  ..\\..\\resources\\corpora\\2- Textos Extraidos\\Publicos\\IBICT-BDTD(extrator PUC)\\USP_tde-03102013-142858.txt\n"
     ]
    },
    {
     "name": "stderr",
     "output_type": "stream",
     "text": [
      "03/05/2020 09:42:12 AM:  ... ignorando arquivo vazio: USP_tde-04112014-102047.txt\n"
     ]
    },
    {
     "name": "stdout",
     "output_type": "stream",
     "text": [
      "Erro ao ler o arquivo:  ..\\..\\resources\\corpora\\2- Textos Extraidos\\Publicos\\IBICT-BDTD(extrator PUC)\\USP_tde-04112014-102047.txt\n"
     ]
    },
    {
     "name": "stderr",
     "output_type": "stream",
     "text": [
      "03/05/2020 09:42:16 AM:  ... ignorando arquivo vazio: USP_tde-06122010-150018.txt\n"
     ]
    },
    {
     "name": "stdout",
     "output_type": "stream",
     "text": [
      "Erro ao ler o arquivo:  ..\\..\\resources\\corpora\\2- Textos Extraidos\\Publicos\\IBICT-BDTD(extrator PUC)\\USP_tde-06122010-150018.txt\n"
     ]
    },
    {
     "name": "stderr",
     "output_type": "stream",
     "text": [
      "03/05/2020 09:42:16 AM:  ... ignorando arquivo vazio: USP_tde-07062013-112915.txt\n"
     ]
    },
    {
     "name": "stdout",
     "output_type": "stream",
     "text": [
      "Erro ao ler o arquivo:  ..\\..\\resources\\corpora\\2- Textos Extraidos\\Publicos\\IBICT-BDTD(extrator PUC)\\USP_tde-07062013-112915.txt\n"
     ]
    },
    {
     "name": "stderr",
     "output_type": "stream",
     "text": [
      "03/05/2020 09:42:19 AM:  ... ignorando arquivo vazio: USP_tde-08082014-113954.txt\n"
     ]
    },
    {
     "name": "stdout",
     "output_type": "stream",
     "text": [
      "Erro ao ler o arquivo:  ..\\..\\resources\\corpora\\2- Textos Extraidos\\Publicos\\IBICT-BDTD(extrator PUC)\\USP_tde-08082014-113954.txt\n"
     ]
    },
    {
     "name": "stderr",
     "output_type": "stream",
     "text": [
      "03/05/2020 09:42:19 AM:  ... ignorando arquivo vazio: USP_tde-08092010-123851.txt\n"
     ]
    },
    {
     "name": "stdout",
     "output_type": "stream",
     "text": [
      "Erro ao ler o arquivo:  ..\\..\\resources\\corpora\\2- Textos Extraidos\\Publicos\\IBICT-BDTD(extrator PUC)\\USP_tde-08092010-123851.txt\n"
     ]
    },
    {
     "name": "stderr",
     "output_type": "stream",
     "text": [
      "03/05/2020 09:42:24 AM:  ... ignorando arquivo vazio: USP_tde-11022005-162828.txt\n"
     ]
    },
    {
     "name": "stdout",
     "output_type": "stream",
     "text": [
      "Erro ao ler o arquivo:  ..\\..\\resources\\corpora\\2- Textos Extraidos\\Publicos\\IBICT-BDTD(extrator PUC)\\USP_tde-11022005-162828.txt\n"
     ]
    },
    {
     "name": "stderr",
     "output_type": "stream",
     "text": [
      "03/05/2020 09:42:30 AM:  ... ignorando arquivo vazio: USP_tde-13082018-145437.txt\n"
     ]
    },
    {
     "name": "stdout",
     "output_type": "stream",
     "text": [
      "Erro ao ler o arquivo:  ..\\..\\resources\\corpora\\2- Textos Extraidos\\Publicos\\IBICT-BDTD(extrator PUC)\\USP_tde-13082018-145437.txt\n"
     ]
    },
    {
     "name": "stderr",
     "output_type": "stream",
     "text": [
      "03/05/2020 09:42:32 AM:  ... ignorando arquivo vazio: USP_tde-13102015-163128.txt\n",
      "03/05/2020 09:42:32 AM:  ... ignorando arquivo vazio: USP_tde-14012008-171216.txt\n"
     ]
    },
    {
     "name": "stdout",
     "output_type": "stream",
     "text": [
      "Erro ao ler o arquivo:  ..\\..\\resources\\corpora\\2- Textos Extraidos\\Publicos\\IBICT-BDTD(extrator PUC)\\USP_tde-13102015-163128.txt\n",
      "Erro ao ler o arquivo:  ..\\..\\resources\\corpora\\2- Textos Extraidos\\Publicos\\IBICT-BDTD(extrator PUC)\\USP_tde-14012008-171216.txt\n"
     ]
    },
    {
     "name": "stderr",
     "output_type": "stream",
     "text": [
      "03/05/2020 09:42:34 AM:  ... ignorando arquivo vazio: USP_tde-15082012-104104.txt\n"
     ]
    },
    {
     "name": "stdout",
     "output_type": "stream",
     "text": [
      "Erro ao ler o arquivo:  ..\\..\\resources\\corpora\\2- Textos Extraidos\\Publicos\\IBICT-BDTD(extrator PUC)\\USP_tde-15082012-104104.txt\n"
     ]
    },
    {
     "name": "stderr",
     "output_type": "stream",
     "text": [
      "03/05/2020 09:42:35 AM:  ... ignorando arquivo vazio: USP_tde-16072018-083539.txt\n"
     ]
    },
    {
     "name": "stdout",
     "output_type": "stream",
     "text": [
      "Erro ao ler o arquivo:  ..\\..\\resources\\corpora\\2- Textos Extraidos\\Publicos\\IBICT-BDTD(extrator PUC)\\USP_tde-16072018-083539.txt\n"
     ]
    },
    {
     "name": "stderr",
     "output_type": "stream",
     "text": [
      "03/05/2020 09:42:38 AM:  ... ignorando arquivo vazio: USP_tde-18052010-154810.txt\n",
      "03/05/2020 09:42:38 AM:  ... ignorando arquivo vazio: USP_tde-18072007-155710.txt\n"
     ]
    },
    {
     "name": "stdout",
     "output_type": "stream",
     "text": [
      "Erro ao ler o arquivo:  ..\\..\\resources\\corpora\\2- Textos Extraidos\\Publicos\\IBICT-BDTD(extrator PUC)\\USP_tde-18052010-154810.txt\n",
      "Erro ao ler o arquivo:  ..\\..\\resources\\corpora\\2- Textos Extraidos\\Publicos\\IBICT-BDTD(extrator PUC)\\USP_tde-18072007-155710.txt\n"
     ]
    },
    {
     "name": "stderr",
     "output_type": "stream",
     "text": [
      "03/05/2020 09:42:40 AM:  ... ignorando arquivo vazio: USP_tde-18112010-123534.txt\n",
      "03/05/2020 09:42:40 AM:  ... ignorando arquivo vazio: USP_tde-18112013-105543.txt\n",
      "03/05/2020 09:42:42 AM:  ... ignorando arquivo vazio: USP_tde-19012011-111506.txt\n"
     ]
    },
    {
     "name": "stdout",
     "output_type": "stream",
     "text": [
      "Erro ao ler o arquivo:  ..\\..\\resources\\corpora\\2- Textos Extraidos\\Publicos\\IBICT-BDTD(extrator PUC)\\USP_tde-19012011-111506.txt\n"
     ]
    },
    {
     "name": "stderr",
     "output_type": "stream",
     "text": [
      "03/05/2020 09:42:42 AM:  ... ignorando arquivo vazio: USP_tde-19012011-153954.txt\n"
     ]
    },
    {
     "name": "stdout",
     "output_type": "stream",
     "text": [
      "Erro ao ler o arquivo:  ..\\..\\resources\\corpora\\2- Textos Extraidos\\Publicos\\IBICT-BDTD(extrator PUC)\\USP_tde-19012011-153954.txt\n"
     ]
    },
    {
     "name": "stderr",
     "output_type": "stream",
     "text": [
      "03/05/2020 09:42:45 AM:  ... ignorando arquivo vazio: USP_tde-20102010-170921.txt\n",
      "03/05/2020 09:42:45 AM:  ... ignorando arquivo vazio: USP_tde-20102016-144835.txt\n"
     ]
    },
    {
     "name": "stdout",
     "output_type": "stream",
     "text": [
      "Erro ao ler o arquivo:  ..\\..\\resources\\corpora\\2- Textos Extraidos\\Publicos\\IBICT-BDTD(extrator PUC)\\USP_tde-20102010-170921.txt\n",
      "Erro ao ler o arquivo:  ..\\..\\resources\\corpora\\2- Textos Extraidos\\Publicos\\IBICT-BDTD(extrator PUC)\\USP_tde-20102016-144835.txt\n"
     ]
    },
    {
     "name": "stderr",
     "output_type": "stream",
     "text": [
      "03/05/2020 09:42:45 AM:  ... ignorando arquivo vazio: USP_tde-20122012-100600.txt\n"
     ]
    },
    {
     "name": "stdout",
     "output_type": "stream",
     "text": [
      "Erro ao ler o arquivo:  ..\\..\\resources\\corpora\\2- Textos Extraidos\\Publicos\\IBICT-BDTD(extrator PUC)\\USP_tde-20122012-100600.txt\n"
     ]
    },
    {
     "name": "stderr",
     "output_type": "stream",
     "text": [
      "03/05/2020 09:42:47 AM:  ... ignorando arquivo vazio: USP_tde-22012015-155724.txt\n"
     ]
    },
    {
     "name": "stdout",
     "output_type": "stream",
     "text": [
      "Erro ao ler o arquivo:  ..\\..\\resources\\corpora\\2- Textos Extraidos\\Publicos\\IBICT-BDTD(extrator PUC)\\USP_tde-22012015-155724.txt\n"
     ]
    },
    {
     "name": "stderr",
     "output_type": "stream",
     "text": [
      "03/05/2020 09:42:49 AM:  ... ignorando arquivo vazio: USP_tde-23022015-073929.txt\n"
     ]
    },
    {
     "name": "stdout",
     "output_type": "stream",
     "text": [
      "Erro ao ler o arquivo:  ..\\..\\resources\\corpora\\2- Textos Extraidos\\Publicos\\IBICT-BDTD(extrator PUC)\\USP_tde-23022015-073929.txt\n"
     ]
    },
    {
     "name": "stderr",
     "output_type": "stream",
     "text": [
      "03/05/2020 09:42:52 AM:  ... ignorando arquivo vazio: USP_tde-25022016-094314.txt\n"
     ]
    },
    {
     "name": "stdout",
     "output_type": "stream",
     "text": [
      "Erro ao ler o arquivo:  ..\\..\\resources\\corpora\\2- Textos Extraidos\\Publicos\\IBICT-BDTD(extrator PUC)\\USP_tde-25022016-094314.txt\n"
     ]
    },
    {
     "name": "stderr",
     "output_type": "stream",
     "text": [
      "03/05/2020 09:42:53 AM:  ... ignorando arquivo vazio: USP_tde-25092014-160118.txt\n"
     ]
    },
    {
     "name": "stdout",
     "output_type": "stream",
     "text": [
      "Erro ao ler o arquivo:  ..\\..\\resources\\corpora\\2- Textos Extraidos\\Publicos\\IBICT-BDTD(extrator PUC)\\USP_tde-25092014-160118.txt\n"
     ]
    },
    {
     "name": "stderr",
     "output_type": "stream",
     "text": [
      "03/05/2020 09:42:55 AM:  ... ignorando arquivo vazio: USP_tde-26082008-090824.txt\n"
     ]
    },
    {
     "name": "stdout",
     "output_type": "stream",
     "text": [
      "Erro ao ler o arquivo:  ..\\..\\resources\\corpora\\2- Textos Extraidos\\Publicos\\IBICT-BDTD(extrator PUC)\\USP_tde-26082008-090824.txt\n"
     ]
    },
    {
     "name": "stderr",
     "output_type": "stream",
     "text": [
      "03/05/2020 09:42:57 AM:  ... ignorando arquivo vazio: USP_tde-26112015-142505.txt\n"
     ]
    },
    {
     "name": "stdout",
     "output_type": "stream",
     "text": [
      "Erro ao ler o arquivo:  ..\\..\\resources\\corpora\\2- Textos Extraidos\\Publicos\\IBICT-BDTD(extrator PUC)\\USP_tde-26112015-142505.txt\n"
     ]
    },
    {
     "name": "stderr",
     "output_type": "stream",
     "text": [
      "03/05/2020 09:42:57 AM:  ... ignorando arquivo vazio: USP_tde-27052018-064056.txt\n"
     ]
    },
    {
     "name": "stdout",
     "output_type": "stream",
     "text": [
      "Erro ao ler o arquivo:  ..\\..\\resources\\corpora\\2- Textos Extraidos\\Publicos\\IBICT-BDTD(extrator PUC)\\USP_tde-27052018-064056.txt\n"
     ]
    },
    {
     "name": "stderr",
     "output_type": "stream",
     "text": [
      "03/05/2020 09:43:02 AM:  ... ignorando arquivo vazio: USP_tde-30112016-100756.txt\n"
     ]
    },
    {
     "name": "stdout",
     "output_type": "stream",
     "text": [
      "Erro ao ler o arquivo:  ..\\..\\resources\\corpora\\2- Textos Extraidos\\Publicos\\IBICT-BDTD(extrator PUC)\\USP_tde-30112016-100756.txt\n",
      "\n",
      "\n",
      "\n",
      "Tempo total decorrido:  0:06:18.075710\n"
     ]
    }
   ],
   "source": [
    "textoCorpus = processaArquivosDaPasta(pastaCorporaEntrada, nomeArquivoSaidaCorpus)"
   ]
  },
  {
   "cell_type": "code",
   "execution_count": 13,
   "metadata": {},
   "outputs": [
    {
     "name": "stdout",
     "output_type": "stream",
     "text": [
      "Total de sentenças:  2,558,837\n",
      "Total de tokens:  37,825,743\n"
     ]
    }
   ],
   "source": [
    "imprime_info_corpus(textoCorpus)"
   ]
  },
  {
   "cell_type": "code",
   "execution_count": null,
   "metadata": {},
   "outputs": [],
   "source": []
  },
  {
   "cell_type": "code",
   "execution_count": 5,
   "metadata": {},
   "outputs": [
    {
     "name": "stdout",
     "output_type": "stream",
     "text": [
      "Total de sentenças:  2,558,626\n",
      "Total de tokens:  37,552,324\n",
      "Tamanho do Vocabulário:  458,907\n"
     ]
    }
   ],
   "source": [
    "imprime_info_corpus(textoCorpus)"
   ]
  }
 ],
 "metadata": {
  "kernelspec": {
   "display_name": "Python 3",
   "language": "python",
   "name": "python3"
  },
  "language_info": {
   "codemirror_mode": {
    "name": "ipython",
    "version": 3
   },
   "file_extension": ".py",
   "mimetype": "text/x-python",
   "name": "python",
   "nbconvert_exporter": "python",
   "pygments_lexer": "ipython3",
   "version": "3.6.5"
  }
 },
 "nbformat": 4,
 "nbformat_minor": 2
}
