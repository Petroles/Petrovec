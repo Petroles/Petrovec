{
 "cells": [
  {
   "cell_type": "markdown",
   "metadata": {},
   "source": [
    "#### Treinamento dos Modelos de representação vetorial"
   ]
  },
  {
   "cell_type": "code",
   "execution_count": 8,
   "metadata": {},
   "outputs": [],
   "source": [
    "import re\n",
    "from collections import Counter\n",
    "import os\n",
    "from pathlib import Path\n",
    "import datetime\n",
    "from os import listdir\n",
    "from os.path import isfile, join, isdir\n",
    "import unicodedata\n",
    "import re\n",
    "import gensim\n",
    "from gensim.models.fasttext import FastText\n",
    "from gensim.test.utils import datapath\n",
    "import multiprocessing"
   ]
  },
  {
   "cell_type": "code",
   "execution_count": 9,
   "metadata": {},
   "outputs": [
    {
     "data": {
      "text/html": [
       "<style>.container { width:100% !important; }</style>"
      ],
      "text/plain": [
       "<IPython.core.display.HTML object>"
      ]
     },
     "metadata": {},
     "output_type": "display_data"
    }
   ],
   "source": [
    "%run ../_Util.ipynb"
   ]
  },
  {
   "cell_type": "code",
   "execution_count": 10,
   "metadata": {},
   "outputs": [],
   "source": [
    "pastaArquivoCorpus = join('.\\\\resources\\\\Corpora\\\\3- Textos Preprocessados\\\\_Consolidados')\n",
    "pastaArquivosModelosSaida = join('.\\\\resources\\\\Modelos')\n"
   ]
  },
  {
   "cell_type": "code",
   "execution_count": 11,
   "metadata": {},
   "outputs": [
    {
     "name": "stdout",
     "output_type": "stream",
     "text": [
      "Utilizando  8  cores\n"
     ]
    }
   ],
   "source": [
    "# Definição de hiperparametros\n",
    "_minCount         = 10  # default is 5\n",
    "_windowSize       = 5  # default is 5\n",
    "_negativeSampling = 5  # default is 5 \n",
    "_vectorSize       = 100 # default is 100   \n",
    "_iter = 10 #Number of iterations (epochs) over the corpus. Default is 5\n",
    "\n",
    "cores = multiprocessing.cpu_count() # Count the number of cores in a computer\n",
    "_workers = cores-1 #number of threads\n",
    "print(\"Utilizando \" ,cores, \" cores\")"
   ]
  },
  {
   "cell_type": "code",
   "execution_count": 12,
   "metadata": {},
   "outputs": [],
   "source": [
    "def imprimeHiperparametros():\n",
    "    print(\"\\n# Hiperparametros utilizados no treinamento do modelo\")\n",
    "    print(\"_minCount :\",_minCount)\n",
    "    print(\"_windowSize :\",_windowSize)\n",
    "    print(\"_negativeSampling :\",_negativeSampling)\n",
    "    print(\"_vectorSize :\",_vectorSize)\n",
    "    print(\"_iter :\",_iter)\n",
    "    print(\" \")\n"
   ]
  },
  {
   "cell_type": "code",
   "execution_count": 13,
   "metadata": {},
   "outputs": [],
   "source": [
    "def treinaModelo(nomeArquivoCorpus):\n",
    "    momentoInicial = datetime.datetime.now()\n",
    "\n",
    "    nomeArquivoModelo = nomeArquivoCorpus + \"-FastText.model\"\n",
    "    nomeArquivoModelo_vetores = nomeArquivoCorpus + \"-FastText(VECTORS).model\"\n",
    "    pathCorpus = os.path.join(pastaArquivoCorpus, nomeArquivoCorpus)\n",
    "    arquivoModelo = os.path.join(pastaArquivosModelosSaida, nomeArquivoModelo)\n",
    "    \n",
    "    #print('Lendo arquivo de corpus...')\n",
    "    #textoCorpus = leTextoDeArquivo(pathCorpus)\n",
    "    #imprime_info_corpus(textoCorpus)\n",
    "    \n",
    "    imprimeHiperparametros()\n",
    "    \n",
    "    print('Iniciando treinamento do modelo...')\n",
    "    corpus_file = datapath(pathCorpus)\n",
    "    \n",
    "    model = FastText(corpus_file=corpus_file, \n",
    "                     min_count = _minCount, \n",
    "                     size = _vectorSize,\n",
    "                     window = _windowSize,\n",
    "                     negative = _negativeSampling,\n",
    "                     workers = _workers,\n",
    "                     iter = _iter)\n",
    "    \n",
    "    #model.init_sims(replace=True)\n",
    "    \n",
    "    print(\"Gravando arquivo: \", str(arquivoModelo))\n",
    "    model.save(arquivoModelo)\n",
    "   # model.save_word2vec_format(nomeArquivoModelo_vetores)\n",
    "    \n",
    "    #vocab = model.wv.index2word\n",
    "    #print('Tamanho do vocabulario do modelo: ', len(vocab))\n",
    "    \n",
    "    momentoFinal = datetime.datetime.now()\n",
    "    print(\"\\nPreprocessamento: tempo total decorrido: \", momentoFinal - momentoInicial)      "
   ]
  },
  {
   "cell_type": "markdown",
   "metadata": {},
   "source": [
    "### Treinando diferentes versões para os modelos vetoriais"
   ]
  },
  {
   "cell_type": "code",
   "execution_count": 12,
   "metadata": {},
   "outputs": [
    {
     "name": "stdout",
     "output_type": "stream",
     "text": [
      "\n",
      "# Hiperparametros utilizados no treinamento do modelo\n",
      "_minCount : 10\n",
      "_windowSize : 5\n",
      "_negativeSampling : 5\n",
      "_vectorSize : 100\n",
      "_iter : 10\n",
      " \n",
      "Iniciando treinamento do modelo...\n",
      "Gravando arquivo:  C:\\Users\\czl6\\__Repositorios\\GitGeo\\corpora\\resources\\Modelos\\publico-ANP-PETRO-v2.txt-FastText.model\n",
      "\n",
      "Preprocessamento: tempo total decorrido:  0:04:47.616459\n"
     ]
    }
   ],
   "source": [
    "treinaModelo(\"publico-ANP-PETRO-v2.txt\")"
   ]
  },
  {
   "cell_type": "code",
   "execution_count": 13,
   "metadata": {},
   "outputs": [
    {
     "name": "stdout",
     "output_type": "stream",
     "text": [
      "\n",
      "# Hiperparametros utilizados no treinamento do modelo\n",
      "_minCount : 10\n",
      "_windowSize : 5\n",
      "_negativeSampling : 5\n",
      "_vectorSize : 100\n",
      "_iter : 10\n",
      " \n",
      "Iniciando treinamento do modelo...\n",
      "Gravando arquivo:  C:\\Users\\czl6\\__Repositorios\\GitGeo\\corpora\\resources\\Modelos\\publico-Petrosin.txt-FastText.model\n",
      "\n",
      "Preprocessamento: tempo total decorrido:  0:16:26.219205\n"
     ]
    }
   ],
   "source": [
    "treinaModelo(\"publico-Petrosin.txt\")"
   ]
  },
  {
   "cell_type": "code",
   "execution_count": 14,
   "metadata": {},
   "outputs": [
    {
     "name": "stdout",
     "output_type": "stream",
     "text": [
      "Lendo arquivo de corpus...\n",
      "Total de sentenças:  2,558,838\n",
      "Total de tokens:  37,825,743\n",
      "\n",
      "# Hiperparametros utilizados no treinamento do modelo\n",
      "_minCount : 10\n",
      "_windowSize : 5\n",
      "_negativeSampling : 5\n",
      "_vectorSize : 100\n",
      "_iter : 10\n",
      " \n",
      "Iniciando treinamento do modelo...\n",
      "Gravando arquivo:  ..\\..\\resources\\Modelos\\publico-IBICT-BDTD-ExtratorPuc.txt.model\n",
      "Tamanho do vocabulario do modelo:  79869\n",
      "\n",
      "Preprocessamento: tempo total decorrido:  0:06:55.303391\n"
     ]
    }
   ],
   "source": [
    "#treinaModelo(\"publico-IBICT-BDTD-ExtratorPuc.txt\")"
   ]
  },
  {
   "cell_type": "code",
   "execution_count": 7,
   "metadata": {},
   "outputs": [
    {
     "name": "stdout",
     "output_type": "stream",
     "text": [
      "\n",
      "# Hiperparametros utilizados no treinamento do modelo\n",
      "_minCount : 10\n",
      "_windowSize : 5\n",
      "_negativeSampling : 5\n",
      "_vectorSize : 100\n",
      "_iter : 10\n",
      " \n",
      "Iniciando treinamento do modelo...\n",
      "Gravando arquivo:  C:\\Users\\czl6\\__Repositorios\\GitGeo\\corpora\\resources\\Modelos\\publico-COMPLETO.txt-FastText.model\n"
     ]
    },
    {
     "ename": "AttributeError",
     "evalue": "'FastText' object has no attribute 'save_word2vec_format'",
     "output_type": "error",
     "traceback": [
      "\u001b[1;31m---------------------------------------------------------------------------\u001b[0m",
      "\u001b[1;31mAttributeError\u001b[0m                            Traceback (most recent call last)",
      "\u001b[1;32m<ipython-input-7-943e4fd48bcd>\u001b[0m in \u001b[0;36m<module>\u001b[1;34m()\u001b[0m\n\u001b[1;32m----> 1\u001b[1;33m \u001b[0mtreinaModelo\u001b[0m\u001b[1;33m(\u001b[0m\u001b[1;34m\"publico-COMPLETO.txt\"\u001b[0m\u001b[1;33m)\u001b[0m\u001b[1;33m\u001b[0m\u001b[0m\n\u001b[0m",
      "\u001b[1;32m<ipython-input-6-49d1f7d4a7ea>\u001b[0m in \u001b[0;36mtreinaModelo\u001b[1;34m(nomeArquivoCorpus)\u001b[0m\n\u001b[0;32m     28\u001b[0m     \u001b[0mprint\u001b[0m\u001b[1;33m(\u001b[0m\u001b[1;34m\"Gravando arquivo: \"\u001b[0m\u001b[1;33m,\u001b[0m \u001b[0mstr\u001b[0m\u001b[1;33m(\u001b[0m\u001b[0marquivoModelo\u001b[0m\u001b[1;33m)\u001b[0m\u001b[1;33m)\u001b[0m\u001b[1;33m\u001b[0m\u001b[0m\n\u001b[0;32m     29\u001b[0m     \u001b[0mmodel\u001b[0m\u001b[1;33m.\u001b[0m\u001b[0msave\u001b[0m\u001b[1;33m(\u001b[0m\u001b[0marquivoModelo\u001b[0m\u001b[1;33m)\u001b[0m\u001b[1;33m\u001b[0m\u001b[0m\n\u001b[1;32m---> 30\u001b[1;33m     \u001b[0mmodel\u001b[0m\u001b[1;33m.\u001b[0m\u001b[0msave_word2vec_format\u001b[0m\u001b[1;33m(\u001b[0m\u001b[0mnomeArquivoModelo_vetores\u001b[0m\u001b[1;33m)\u001b[0m\u001b[1;33m\u001b[0m\u001b[0m\n\u001b[0m\u001b[0;32m     31\u001b[0m \u001b[1;33m\u001b[0m\u001b[0m\n\u001b[0;32m     32\u001b[0m     \u001b[1;31m#vocab = model.wv.index2word\u001b[0m\u001b[1;33m\u001b[0m\u001b[1;33m\u001b[0m\u001b[0m\n",
      "\u001b[1;31mAttributeError\u001b[0m: 'FastText' object has no attribute 'save_word2vec_format'"
     ]
    }
   ],
   "source": [
    "treinaModelo(\"publico-COMPLETO.txt\")"
   ]
  },
  {
   "cell_type": "code",
   "execution_count": 14,
   "metadata": {},
   "outputs": [
    {
     "name": "stdout",
     "output_type": "stream",
     "text": [
      "\n",
      "# Hiperparametros utilizados no treinamento do modelo\n",
      "_minCount : 10\n",
      "_windowSize : 5\n",
      "_negativeSampling : 5\n",
      "_vectorSize : 100\n",
      "_iter : 10\n",
      " \n",
      "Iniciando treinamento do modelo...\n",
      "Gravando arquivo:  C:\\Users\\czl6\\__Repositorios\\GitGeo\\corpora\\resources\\Modelos\\Publico-Hibrido(Completo+NILC).txt-FastText.model\n",
      "\n",
      "Preprocessamento: tempo total decorrido:  4:20:25.953289\n"
     ]
    }
   ],
   "source": [
    "treinaModelo(\"Publico-Hibrido(Completo+NILC).txt\")"
   ]
  }
 ],
 "metadata": {
  "kernelspec": {
   "display_name": "Python 3",
   "language": "python",
   "name": "python3"
  },
  "language_info": {
   "codemirror_mode": {
    "name": "ipython",
    "version": 3
   },
   "file_extension": ".py",
   "mimetype": "text/x-python",
   "name": "python",
   "nbconvert_exporter": "python",
   "pygments_lexer": "ipython3",
   "version": "3.6.5"
  }
 },
 "nbformat": 4,
 "nbformat_minor": 4
}
