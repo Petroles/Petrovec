{
 "cells": [
  {
   "cell_type": "markdown",
   "metadata": {},
   "source": [
    "#### Treinamento dos Modelos de representação vetorial"
   ]
  },
  {
   "cell_type": "code",
   "execution_count": 1,
   "metadata": {},
   "outputs": [],
   "source": [
    "import re\n",
    "from collections import Counter\n",
    "import os\n",
    "from pathlib import Path\n",
    "import datetime\n",
    "from os import listdir\n",
    "from os.path import isfile, join, isdir\n",
    "import unicodedata\n",
    "import re\n",
    "import gensim\n",
    "from gensim.models import Word2Vec\n",
    "from gensim.models.word2vec import PathLineSentences, LineSentence\n",
    "from gensim.models import KeyedVectors\n",
    "from smart_open import smart_open\n",
    "from collections import Counter"
   ]
  },
  {
   "cell_type": "code",
   "execution_count": 2,
   "metadata": {},
   "outputs": [],
   "source": [
    "import warnings\n",
    "warnings.filterwarnings('ignore')"
   ]
  },
  {
   "cell_type": "code",
   "execution_count": 3,
   "metadata": {},
   "outputs": [
    {
     "data": {
      "text/html": [
       "<style>.container { width:100% !important; }</style>"
      ],
      "text/plain": [
       "<IPython.core.display.HTML object>"
      ]
     },
     "metadata": {},
     "output_type": "display_data"
    }
   ],
   "source": [
    "%run ../_Util.ipynb"
   ]
  },
  {
   "cell_type": "code",
   "execution_count": 4,
   "metadata": {},
   "outputs": [],
   "source": [
    "pathModelos = join('..', '..', 'resources', 'Modelos')\n",
    "pathCorpora = join('..', '..', 'resources', 'Corpora','3- Textos Preprocessados','_Consolidados')"
   ]
  },
  {
   "cell_type": "code",
   "execution_count": 5,
   "metadata": {},
   "outputs": [],
   "source": [
    "def carregaModelo(nomeModelo):\n",
    "    pathModelo = os.path.join(pathModelos, nomeModelo)\n",
    "    model = gensim.models.Word2Vec.load(pathModelo)\n",
    "    print('Arquivo binário de modelo carregado...')\n",
    "    return model"
   ]
  },
  {
   "cell_type": "code",
   "execution_count": 6,
   "metadata": {},
   "outputs": [],
   "source": [
    "def getLisMostCommon(corpus):\n",
    "    texto = leTextoDeArquivo(join(pathCorpora, corpus))\n",
    "    num_count = 10000\n",
    "    word_counts = Counter(texto.split())\n",
    "    most_common = word_counts.most_common(num_count)\n",
    "    \n",
    "    wordlist = [word[0] for word in most_common]\n",
    "    return wordlist"
   ]
  },
  {
   "cell_type": "code",
   "execution_count": 7,
   "metadata": {},
   "outputs": [],
   "source": [
    "def word2vec2tensor(model, tensor_filename, wordlist):\n",
    "    outfiletsv = join(pathModelos, tensor_filename + '_tensor.tsv')\n",
    "    outfiletsvmeta = join(pathModelos, tensor_filename + '_metadata.tsv')\n",
    "                \n",
    "    with smart_open(outfiletsv, 'wb') as file_vector, smart_open(outfiletsvmeta, 'wb') as file_metadata:\n",
    "        #for word in model.wv.index2word:\n",
    "        for word in wordlist:    \n",
    "            #word = stem_dict[word] if stem_dict.get(word) else word\n",
    "            file_metadata.write(gensim.utils.to_utf8(word) + gensim.utils.to_utf8('\\n'))\n",
    "            vector_row = '\\t'.join(str(x) for x in model.wv.__getitem__(word))\n",
    "            file_vector.write(gensim.utils.to_utf8(vector_row) + gensim.utils.to_utf8('\\n'))"
   ]
  },
  {
   "cell_type": "code",
   "execution_count": 8,
   "metadata": {},
   "outputs": [],
   "source": [
    "def exportaModelo(nomeModelo, corpus):  \n",
    "    wordlist = getLisMostCommon(corpus)\n",
    "    model = carregaModelo(nomeModelo)\n",
    "    print('Tamanho do modelo: ',len(model.wv.vocab))\n",
    "    word2vec2tensor(model, nomeModelo, wordlist)\n",
    "    print('Arquivo gravado')"
   ]
  },
  {
   "cell_type": "code",
   "execution_count": 52,
   "metadata": {},
   "outputs": [
    {
     "name": "stdout",
     "output_type": "stream",
     "text": [
      "Arquivo binário de modelo carregado...\n",
      "Tamanho do modelo:  161842\n",
      "Arquivo gravado\n",
      "Wall time: 31.4 s\n"
     ]
    }
   ],
   "source": [
    "%%time\n",
    "nomeArquivoModelo = 'publico-COMPLETO-100.txt.model'\n",
    "nomeCorpus = 'publico-COMPLETO.txt'\n",
    "exportaModelo(nomeArquivoModelo, nomeCorpus)"
   ]
  },
  {
   "cell_type": "code",
   "execution_count": 9,
   "metadata": {},
   "outputs": [
    {
     "name": "stdout",
     "output_type": "stream",
     "text": [
      "Arquivo binário de modelo carregado...\n",
      "Tamanho do modelo:  161842\n",
      "Arquivo gravado\n",
      "Wall time: 33 s\n"
     ]
    }
   ],
   "source": [
    "%%time\n",
    "nomeArquivoModelo = 'publico-COMPLETO-100.txt.model'\n",
    "nomeCorpus = 'publico-COMPLETO.txt'\n",
    "exportaModelo(nomeArquivoModelo, nomeCorpus)"
   ]
  },
  {
   "cell_type": "code",
   "execution_count": null,
   "metadata": {},
   "outputs": [],
   "source": []
  }
 ],
 "metadata": {
  "kernelspec": {
   "display_name": "Python 3",
   "language": "python",
   "name": "python3"
  },
  "language_info": {
   "codemirror_mode": {
    "name": "ipython",
    "version": 3
   },
   "file_extension": ".py",
   "mimetype": "text/x-python",
   "name": "python",
   "nbconvert_exporter": "python",
   "pygments_lexer": "ipython3",
   "version": "3.6.5"
  }
 },
 "nbformat": 4,
 "nbformat_minor": 4
}
