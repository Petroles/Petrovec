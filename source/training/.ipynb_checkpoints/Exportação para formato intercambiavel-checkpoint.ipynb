{
 "cells": [
  {
   "cell_type": "markdown",
   "metadata": {},
   "source": [
    "#### Treinamento dos Modelos de representação vetorial"
   ]
  },
  {
   "cell_type": "code",
   "execution_count": 1,
   "metadata": {},
   "outputs": [],
   "source": [
    "import re\n",
    "from collections import Counter\n",
    "import os\n",
    "from pathlib import Path\n",
    "import datetime\n",
    "from os import listdir\n",
    "from os.path import isfile, join, isdir\n",
    "import unicodedata\n",
    "import re\n",
    "import gensim\n",
    "from gensim.models import Word2Vec\n",
    "from gensim.models.word2vec import PathLineSentences, LineSentence\n",
    "from gensim.models import KeyedVectors"
   ]
  },
  {
   "cell_type": "code",
   "execution_count": 2,
   "metadata": {},
   "outputs": [],
   "source": [
    "import warnings\n",
    "warnings.filterwarnings('ignore')"
   ]
  },
  {
   "cell_type": "code",
   "execution_count": 3,
   "metadata": {},
   "outputs": [
    {
     "data": {
      "text/html": [
       "<style>.container { width:100% !important; }</style>"
      ],
      "text/plain": [
       "<IPython.core.display.HTML object>"
      ]
     },
     "metadata": {},
     "output_type": "display_data"
    }
   ],
   "source": [
    "%run ../_Util.ipynb"
   ]
  },
  {
   "cell_type": "code",
   "execution_count": 4,
   "metadata": {},
   "outputs": [],
   "source": [
    "pathModelos = join('..', '..', 'resources', 'Modelos')"
   ]
  },
  {
   "cell_type": "code",
   "execution_count": 5,
   "metadata": {},
   "outputs": [],
   "source": [
    "def carregaModelo(nomeModelo):\n",
    "    pathModelo = os.path.join(pathModelos, nomeModelo)\n",
    "    model = gensim.models.Word2Vec.load(pathModelo)\n",
    "    print('Arquivo binário de modelo carregado...')\n",
    "    return model"
   ]
  },
  {
   "cell_type": "code",
   "execution_count": 6,
   "metadata": {},
   "outputs": [],
   "source": [
    "def exportaModelo(nomeModelo):  \n",
    "    \n",
    "    model = carregaModelo(nomeModelo)\n",
    "    nomeArquivoSaida = os.path.join(pathModelos, '..', nomeModelo+\".bin\")\n",
    "    #model.wv.save(nomeArquivoSaida)  # persistindo apenas os vetores, a rede neural eh descartada\n",
    "    #model.wv.save_word2vec_format(nomeArquivoSaida, binary=True)\n",
    "    \n",
    "    # otimizar o tamanho dos modelos para execucao: https://radimrehurek.com/gensim/models/keyedvectors.html\n",
    "    model = model.wv\n",
    "    model.wv.save_word2vec_format(nomeArquivoSaida, binary=False)  # formato intercambiavel usar com Java via DL4J\n",
    "    print('Arquivo gravado em: ', nomeArquivoSaida)"
   ]
  },
  {
   "cell_type": "code",
   "execution_count": 7,
   "metadata": {},
   "outputs": [
    {
     "name": "stdout",
     "output_type": "stream",
     "text": [
      "Arquivo binário de modelo carregado...\n",
      "Arquivo gravado em:  ..\\..\\resources\\Modelos\\publico-ANP-PETRO-v2.txt.model.bin\n"
     ]
    }
   ],
   "source": [
    "nomeArquivoModelo = 'publico-ANP-PETRO-v2.txt.model'\n",
    "exportaModelo(nomeArquivoModelo)"
   ]
  },
  {
   "cell_type": "code",
   "execution_count": 18,
   "metadata": {},
   "outputs": [
    {
     "name": "stdout",
     "output_type": "stream",
     "text": [
      "Arquivo binário de modelo carregado...\n",
      "Arquivo gravado em:  ..\\..\\resources\\Modelos\\..\\publico-COMPLETO.txt.model.bin\n"
     ]
    }
   ],
   "source": [
    "nomeArquivoModelo = 'publico-COMPLETO.txt.model'\n",
    "exportaModelo(nomeArquivoModelo)"
   ]
  },
  {
   "cell_type": "code",
   "execution_count": 8,
   "metadata": {},
   "outputs": [
    {
     "name": "stdout",
     "output_type": "stream",
     "text": [
      "Arquivo binário de modelo carregado...\n",
      "Arquivo gravado em:  ..\\..\\resources\\Modelos\\..\\Publico-Hibrido(Completo+NILC).txt.model.bin\n"
     ]
    }
   ],
   "source": [
    "nomeArquivoModelo = 'Publico-Hibrido(Completo+NILC).txt.model'\n",
    "exportaModelo(nomeArquivoModelo)"
   ]
  },
  {
   "cell_type": "code",
   "execution_count": null,
   "metadata": {},
   "outputs": [],
   "source": []
  }
 ],
 "metadata": {
  "kernelspec": {
   "display_name": "Python 3",
   "language": "python",
   "name": "python3"
  },
  "language_info": {
   "codemirror_mode": {
    "name": "ipython",
    "version": 3
   },
   "file_extension": ".py",
   "mimetype": "text/x-python",
   "name": "python",
   "nbconvert_exporter": "python",
   "pygments_lexer": "ipython3",
   "version": "3.6.5"
  }
 },
 "nbformat": 4,
 "nbformat_minor": 4
}
