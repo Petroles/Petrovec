{
 "cells": [
  {
   "cell_type": "code",
   "execution_count": 2,
   "metadata": {},
   "outputs": [],
   "source": [
    "import numpy as np\n",
    "import re\n",
    "import nltk\n",
    "from collections import Counter\n",
    "import os\n",
    "from pathlib import Path\n",
    "import datetime\n",
    "from string import ascii_lowercase\n",
    "import pandas as pd\n",
    "import os\n",
    "from os import listdir\n",
    "from os.path import isfile, join, isdir\n",
    "import datetime\n",
    "import unicodedata\n",
    "from nltk.corpus import stopwords # Import the stop word list\n",
    "from string import ascii_lowercase\n",
    "import re\n",
    "import logging"
   ]
  },
  {
   "cell_type": "code",
   "execution_count": 3,
   "metadata": {},
   "outputs": [],
   "source": [
    "logging.basicConfig(format='%(asctime)s %(message)s', datefmt='%m/%d/%Y %I:%M:%S %p: ', level=logging.WARN)"
   ]
  },
  {
   "cell_type": "code",
   "execution_count": null,
   "metadata": {},
   "outputs": [],
   "source": [
    "from IPython.core.display import display, HTML\n",
    "display(HTML(\"<style>.container { width:100% !important; }</style>\"))\n",
    "\n",
    "import warnings\n",
    "warnings.filterwarnings('ignore')\n",
    "\n",
    "def pretty_print(df):\n",
    "    return display( HTML( df.to_html().replace(\"\\\\n\",\"<br>\") ) )"
   ]
  },
  {
   "cell_type": "markdown",
   "metadata": {},
   "source": [
    "##### Manipulação de arquivos"
   ]
  },
  {
   "cell_type": "code",
   "execution_count": 23,
   "metadata": {},
   "outputs": [],
   "source": [
    "def verificaExistenciaPastaSaida(pastaSaida):\n",
    "    if not os.path.exists(pastaSaida):\n",
    "        os.makedirs(pastaSaida)\n",
    "        \n",
    "def leTextoDeArquivo(arquivoEntrada):\n",
    "    try:\n",
    "        with open(arquivoEntrada, 'r', encoding=\"utf8\") as f:\n",
    "            return f.read()\n",
    "    except: \n",
    "        try:\n",
    "            with open(arquivoEntrada) as f:\n",
    "                return f.read()\n",
    "        except:\n",
    "            print('Erro ao ler o arquivo: ', arquivoEntrada)\n",
    "            return \"\"\n",
    "\n",
    "def gravaArquivo(arquivoSaida, texto):\n",
    "    logging.info('Gravando arquivo ' + arquivoSaida)\n",
    "    #print('conteudo do arquivo: ', texto[:500])\n",
    "    with open(arquivoSaida, 'w', encoding='utf8') as fp:\n",
    "        fp.write('%s\\n' % texto)\n",
    "        \n",
    "        \n",
    "        \n",
    "# Metodos nao utilizados        \n",
    "\n",
    "def appendArquivo(arquivoSaida, texto):\n",
    "    with open(arquivoSaida, 'a', encoding='utf8') as fp:\n",
    "        fp.write('%s\\n' % texto)\n",
    "        \n",
    "\n",
    "def mergeArquivosDaPasta(pastaEntrada):\n",
    "    pastaArquivosCorpus = Path(pastaentrada).glob(extensao)\n",
    "    \n",
    "    for path in pastaArquivosCorpus:\n",
    "        path_arquivo = str(path) # because path is object not string\n",
    "        print(\"Lendo o arquivo \", path_arquivo)\n",
    "    \n",
    "    texto = ''\n",
    "    with open(path_arquivo, 'r', encoding=\"UTF-8\") as f:\n",
    "        texto = f.read()\n",
    "    \n",
    "    with open(arquivoSaida, 'a', encoding='utf8') as fp:\n",
    "        fp.write('%s' % texto)  \n",
    "       "
   ]
  },
  {
   "cell_type": "code",
   "execution_count": 24,
   "metadata": {
    "collapsed": true
   },
   "outputs": [],
   "source": [
    "# Estatísticas de corpora        \n",
    "def imprime_info_corpus(texto, geraEstatisticasVocabulario = False):\n",
    "    #momentoInicial = datetime.datetime.now()\n",
    "    #print('# Informações estatísticas do corpus:')\n",
    "    sentencas = texto.split(\"\\n\")\n",
    "    tokens = texto.split();\n",
    "    print('Total de sentenças: ', \"{:,}\".format(len(sentencas)))\n",
    "    print('Total de tokens: ', \"{:,}\".format(len(tokens)))\n",
    "    \n",
    "    if (geraEstatisticasVocabulario):\n",
    "        getEstatisticasVocabulario(texto)\n",
    "    \n",
    "    #print(word_counts.most_common())\n",
    "    \n",
    "    #momentoFinal = datetime.datetime.now()\n",
    "    #print(\"\\n\\n\\nTempo total decorrido: \", momentoFinal - momentoInicial)            "
   ]
  },
  {
   "cell_type": "code",
   "execution_count": 3,
   "metadata": {},
   "outputs": [],
   "source": [
    "def getEstatisticas(arquivoEntrada):\n",
    "    texto = leTextoDeArquivo(arquivoEntrada)\n",
    "    sentencas = texto.split(\"\\n\")\n",
    "    tokens = texto.split();\n",
    "    #word_counts = Counter(tokens)\n",
    "    estatisticas = \"{:,}\".format(len(sentencas)) + ' sentenças\\n'\n",
    "    estatisticas = estatisticas + \"{:,}\".format(len(tokens)) + ' tokens\\n'\n",
    "    #estatisticas = estatisticas + \"{:,}\".format(len(word_counts.most_common() )) + 'palavas (vocab)'\n",
    "    return estatisticas"
   ]
  },
  {
   "cell_type": "code",
   "execution_count": null,
   "metadata": {},
   "outputs": [],
   "source": [
    "def getEstatisticasVocabulario(texto, frequenciaMinimaPalavra = 7):\n",
    "    word_counts = Counter(texto.split())\n",
    "    listaPalavras = [w_f for w_f in word_counts.most_common()]\n",
    "    print('Vocabulário total: ', \"{:,}\".format(len(word_counts.most_common())))\n",
    "    \n",
    "    vocabulario = \"\\n\".join(['%s ; %d' % (w_f[0], w_f[1]) for w_f in listaPalavras if w_f[1] >=frequenciaMinimaPalavra])                         \n",
    "    print('Vocabulario Filtrado: ', \"{:,}\".format(len(vocabulario.split(\"\\n\"))))"
   ]
  },
  {
   "cell_type": "code",
   "execution_count": null,
   "metadata": {
    "collapsed": true
   },
   "outputs": [],
   "source": []
  }
 ],
 "metadata": {
  "kernelspec": {
   "display_name": "Python 3",
   "language": "python",
   "name": "python3"
  },
  "language_info": {
   "codemirror_mode": {
    "name": "ipython",
    "version": 3
   },
   "file_extension": ".py",
   "mimetype": "text/x-python",
   "name": "python",
   "nbconvert_exporter": "python",
   "pygments_lexer": "ipython3",
   "version": "3.6.5"
  }
 },
 "nbformat": 4,
 "nbformat_minor": 2
}
