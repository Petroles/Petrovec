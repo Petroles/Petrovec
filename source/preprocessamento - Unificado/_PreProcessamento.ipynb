{
 "cells": [
  {
   "cell_type": "code",
   "execution_count": 3,
   "metadata": {},
   "outputs": [],
   "source": [
    "import numpy as np\n",
    "import re\n",
    "import nltk\n",
    "from collections import Counter\n",
    "import os\n",
    "from pathlib import Path\n",
    "import datetime\n",
    "from string import ascii_lowercase\n",
    "import pandas as pd\n",
    "import os\n",
    "from os import listdir\n",
    "from os.path import isfile, join, isdir\n",
    "import datetime\n",
    "import unicodedata\n",
    "from nltk.corpus import stopwords # Import the stop word list\n",
    "from string import ascii_lowercase\n",
    "import re\n",
    "import logging"
   ]
  },
  {
   "cell_type": "code",
   "execution_count": 4,
   "metadata": {},
   "outputs": [],
   "source": [
    "logging.basicConfig(format='%(asctime)s %(message)s', datefmt='%m/%d/%Y %I:%M:%S %p: ', level=logging.WARN)"
   ]
  },
  {
   "cell_type": "code",
   "execution_count": 5,
   "metadata": {},
   "outputs": [
    {
     "data": {
      "text/html": [
       "<style>.container { width:100% !important; }</style>"
      ],
      "text/plain": [
       "<IPython.core.display.HTML object>"
      ]
     },
     "metadata": {},
     "output_type": "display_data"
    }
   ],
   "source": [
    "%run ..\\_Util.ipynb"
   ]
  },
  {
   "cell_type": "markdown",
   "metadata": {},
   "source": [
    "\n",
    "## Pré-processamento do conjunto de arquivos textos (Corpus O&G)\n",
    "\n",
    "#### Script responsável por iterar o conjunto de arquivos texto extraídos dos arquivos PDF e realizar as etapas de pré-processamento para adequá-los aos algoritmos de NLP em que serão aplicados.\n",
    "\n",
    "As seguintes etapas são realizadas:\n",
    "    - substituição de caracteres acentuados por sua representação equivalente\n",
    "    - normalização de todos os caracteres para minúsculos\n",
    "    - eliminação de stopwords, nos idiomas portuguÊs, inglês e espanhol\n",
    "    - eliminação de arquivos sem conteúdo\n",
    "    - unificação de todos os arquivos em um único arquivo para cada corpus\n",
    "    - reformatação das sentenças, incluindo quebra de linha e considerando caractere de ponto como final de sentença    \n",
    "    - eliminação de caracteres inválidos e pontuação (são eliminados todos os caracteres não-alfanuméricos, exceto o ponto final e outros previamente mapeados)\n",
    "    - substituição de tokens numéricos pela tag <NUMBER>\n",
    "//    - eliminação de ruídos (palavras raras, caracterizadas por ruídos no corpus) \n"
   ]
  },
  {
   "cell_type": "markdown",
   "metadata": {},
   "source": [
    "##### Definições de variáveis"
   ]
  },
  {
   "cell_type": "code",
   "execution_count": 6,
   "metadata": {},
   "outputs": [],
   "source": [
    "## Definindo parametros sobre localizacao dos arquivos\n",
    "#pathRaizCorporaEntrada = 'T:\\\\OpenScience\\\\Corpora\\\\2- Textos Extraídos\\\\Apache Tika\\\\Publicos'\n",
    "#pathRaizCorporaSaida   = 'T:\\\\OpenScience\\\\Corpora\\\\3- Textos Preprocessados\\\\Algoritmos de Embedding - V2\\\\Públicos'\n",
    "pathRaizCorporaEntrada = join('..', '..', 'resources', 'corpora', '2- Textos Extraidos')\n",
    "pathRaizCorporaSaida   = join('..', '..', 'resources', 'corpora', '3- Textos Preprocessados')\n",
    "\n",
    "# Filtros para iteracao dos arquivos na pasta contendo corpus a ser processado\n",
    "extensao = \"*.txt\"\n",
    "extensaoExcel = \".xls\"\n",
    "extensaoPowerPoint = \".ppt\"\n",
    "pastaAtualCorporaEntrada = \".\"\n",
    "\n",
    "# variaveis a serem redefinidas pelas implementacoes especificas\n",
    "pastaCorporaEntrada = \"\"\n",
    "pastaCorporaSaida = pathRaizCorporaSaida\n",
    "nomeArquivoCorpus = 'corpus.txt'\n",
    "\n",
    "# armazena o conteudo final do corpus processado, a ser escrito no arquivo de saida\n",
    "textoCorpus = \"\""
   ]
  },
  {
   "cell_type": "markdown",
   "metadata": {},
   "source": [
    "##### Elementos Parametrizáveis"
   ]
  },
  {
   "cell_type": "code",
   "execution_count": 7,
   "metadata": {},
   "outputs": [],
   "source": [
    "## Parametros de execucao\n",
    "\n",
    "convert_lowercase = True\n",
    "remove_special_chars = True\n",
    "convert_diacritics = True  # converte diacríticos em seus correspondentes não-acentuados\n",
    "remove_stopwords = True\n",
    "remove_numeric_tolens = True\n",
    "remove_single_char = True  # remove tokens formados por um único caractere\n",
    "remove_hifen_suffixes = True  # elimina sufixos verbais, do tipo -se, -lo\n",
    "replace_hyphenation = True\n",
    "\n",
    "ignoraExcel = False\n",
    "ignoraPowerPoint = False\n",
    "pastasParaIgnorar = ['ArquivosNP1']\n",
    "\n",
    "CARACTERE_VAZIO = ''\n",
    "CARACTERE_ESPACO = ' '\n",
    "# Conforme o tipo do conteudo e a origem do corpus, o hifen pode ser substituido por espaco em branco ou eliminado.\n",
    "# a decisao eh tomada pontualmente a cada corpus, conforme analise exploratoria de observacao do conteudo\n",
    "tratamento_hifenizacao = CARACTERE_VAZIO\n",
    "\n",
    "# Define se o algoritmo realizara a reconstrucao das sentenças a partir dos caracteres de delimitação (.?:!). Isso se faz\n",
    "# particularmente necessário em textos extraídos de PDF, em que podem ocorrer quebras de linha resultantes do processo de extração\n",
    "# mas em textos nativamente digitais, essa etapa pode ser desconsiderada\n",
    "isReconstroiSentencas = True\n",
    "#isNILC = False"
   ]
  },
  {
   "cell_type": "code",
   "execution_count": 36,
   "metadata": {
    "collapsed": true
   },
   "outputs": [],
   "source": [
    "def processaArquivosDaPasta(listaCorpora, nomeArquivoSaidaCorpus):\n",
    "    momentoInicial = datetime.datetime.now()\n",
    "    tokens_totais = 0\n",
    "    sentencas_totais = 0\n",
    "\n",
    "    arquivoSaida = join(pastaCorporaSaida, nomeArquivoSaidaCorpus)\n",
    "    logging.info('Arquivo de saida sera escrito em: ' + arquivoSaida)\n",
    "\n",
    "    # armazena o conteudo (ja processado) de cada arquivo\n",
    "    conteudoPorArquivoProcessado = []\n",
    "    \n",
    "    for nomePastaEntradaAtual in listaCorpora:\n",
    "        # Itera os arquivos de cada pasta, carregando seu conteudo\n",
    "        pastaCorporaEntrada = join(pathRaizCorporaEntrada, nomePastaEntradaAtual)\n",
    "        logging.info(\"\\n\\n * Processando arquivos da pasta: \" + pastaCorporaEntrada)\n",
    "\n",
    "        if (not os.path.isdir(pastaCorporaEntrada)):\n",
    "            logging.error('Pasta ',pastaCorporaEntrada,' nao encontrada')\n",
    "\n",
    "        # iterando subpastas\n",
    "        #onlyDirs = [d for d in listdir(pastaEntradaAtual) if (isdir(join(pastaEntradaAtual, d)) and d not in pastasParaIgnorar )]\n",
    "        #for dir in onlyDirs:\n",
    "        #    processaArquivosDaPasta(pastaEntradaAtual, dir, pastaSaidaAtual)\n",
    "\n",
    "        arquivosPastaAtual = Path(pastaCorporaEntrada).glob(extensao)\n",
    "\n",
    "        for path in arquivosPastaAtual:\n",
    "            path_arquivo = str(path) # because path is object not string\n",
    "            converteArquivo(path_arquivo, conteudoPorArquivoProcessado)# grava os dados em conteudoPorArquivoProcessado[]    \n",
    "\n",
    "    # dupla quebra de linha entre os arquivos (necessario ao Bert)\n",
    "    textoCorpus = '\\n\\n'.join([arquivo for arquivo in conteudoPorArquivoProcessado])    \n",
    "    textoCorpus = posProcessamentos(textoCorpus)\n",
    "        \n",
    "    gravaArquivo(arquivoSaida, textoCorpus)\n",
    "\n",
    "    print(\"\\n\\n\\nTempo total decorrido: \", datetime.datetime.now() - momentoInicial)    \n",
    "    return textoCorpus"
   ]
  },
  {
   "cell_type": "code",
   "execution_count": 35,
   "metadata": {
    "collapsed": true
   },
   "outputs": [],
   "source": [
    "def converteArquivo(arquivoEntrada, conteudoPorArquivoProcessado):\n",
    "    (filepath, filename) = os.path.split(arquivoEntrada)\n",
    "    \n",
    "    if ignoraExcel and extensaoExcel in filename:\n",
    "        #logging.warn(\"Ignorando arquivo Excel \" + filename)\n",
    "        return\n",
    "    \n",
    "    if ignoraPowerPoint and extensaoPowerPoint in filename:\n",
    "        #logging.warn(\"Ignorando arquivo PowerPoint \" + filename)\n",
    "        return\n",
    "    \n",
    "    #logging.info(\"Iniciando leitura do arquivo \" + arquivoEntrada)\n",
    "    texto = leTextoDeArquivo(arquivoEntrada)\n",
    "    \n",
    "    #arquivos vazios nao sao processados (threashold 10 caracteres)\n",
    "    if (len(texto) < 10):\n",
    "        #logging.warn(\"... ignorando arquivo vazio: \" + filename)\n",
    "        return \n",
    "    \n",
    "    if (convert_lowercase): texto = text.lower()  \n",
    "    if (convert_diacritics): texto = eliminaCaracteresAcentuados(texto)\n",
    "    if (remove_special_chars): texto = eliminaCaracteresEspeciais(texto)\n",
    "    texto = eliminaStopwords(texto) # a lógica condicional precisou estar dentro do próprio método\n",
    "    if (remove_numeric_tolens): texto = processaTokensNumericos(texto)\n",
    "    texto = reconstroiSentencas(texto)  # a lógica condicional precisou estar dentro do próprio método\n",
    "    if (remove_numeric_tolens): texto = processaTokensNumericos(texto) # executado novamente, para eliminar elementos restantes apos a unificacao de sentencas\n",
    "\n",
    "    conteudoPorArquivoProcessado.append(texto)\n",
    "    #gravaArquivo(arquivoSaida, texto)"
   ]
  },
  {
   "cell_type": "code",
   "execution_count": 26,
   "metadata": {},
   "outputs": [],
   "source": [
    "def eliminaCaracteresAcentuados(texto):\n",
    "    nfkd_form = unicodedata.normalize('NFKD', texto)\n",
    "    texto= u\"\".join([c for c in nfkd_form if not unicodedata.combining(c)])\n",
    "    return texto"
   ]
  },
  {
   "cell_type": "code",
   "execution_count": 15,
   "metadata": {},
   "outputs": [],
   "source": [
    "def eliminaCaracteresEspeciais(texto):\n",
    "    logging.info('Eliminando todos os caracteres especiais, exceto alfanumericos e pontuacao previamente mapeados...')\n",
    "    texto = texto.replace('\\n\\n', '\\n')   \n",
    "    texto = texto.replace('-\\n', '-')  # corrigindo quebras de linha incorretas, pela posicao do hifen  \n",
    "    texto = texto.replace('\\n', ' \\n ')  # adicionando espaco para isolar \\n como token\n",
    "    \n",
    "#    if not isNILC:\n",
    "    texto = re.sub('([.,!?()/])', r' \\1 ', texto) # Adicionando espaços aos caracteres de pontuacao  # no BERT não separamos os caracteres de pontuação\n",
    "\n",
    "    texto = re.sub('[^A-Za-z0-9àèìòùÀÈÌÒÙáéíóúÁÉÍÓÚâêîôÂÊÎÔãñõÃÑÕçÇäëïöüÿÄËÏÖÜŸ: .?!&\\n\\-]+', '', texto) # Eliminando todos os caracteres especiais, mantem apenas quebra de linha, ponto, &, -...\n",
    "    \n",
    "    if remove_single_char:\n",
    "        texto = re.sub(r\" [a-zA-Z] \", \"\", texto) # eliminando acracteres unicos\n",
    "    \n",
    "    # tratamento de hinenizacao, conforme parametrizado\n",
    "    if remove_hifen_suffixes: texto = eliminaSufixosVerbais(texto) # eliminacaode sufixos no contexto do tratamneto de hifenizacao\n",
    "    if replace_hyphenation: texto = texto.replace('-', tratamento_hifenizacao) # Para o BERT mantém a hifenização\n",
    "    \n",
    "    #texto = texto.replace('- ', ' ')  \n",
    "    #texto = texto.replace(' -', ' ')  # Eliminando tokens compostos por hifen+espaco\n",
    "    \n",
    "    return texto"
   ]
  },
  {
   "cell_type": "code",
   "execution_count": 16,
   "metadata": {},
   "outputs": [
    {
     "name": "stdout",
     "output_type": "stream",
     "text": [
      "asda (acentuação) áéíóúâêì? Pontuação! Mantém. desde 123a 12354x 740m desde 12b 1234c 1000th cesde 740m desde\n"
     ]
    }
   ],
   "source": [
    "#teste = \"asda (acentuação) áéíóúâêì? Pontuação! Mantém. desde 123a 12354x 740m desde 12b 1234c 1000th cesde 740m desde\"\n",
    "#teste = '123a saida reator considera 4-115 variacao temperatura 84-115 dentro faixa 220c 250c perda 8-1 carga <NUMBER> bar 3- reatores tubulares leito fixo conforme dados jagger <NUMBER> 123a '\n",
    "#teste = re.sub(r'[\\d]+\\w ', ' <NUMBER> ', teste)\n",
    "#teste = re.sub(r' \\d{1,}-\\d{1,} ', ' <RANGE> ', teste)\n",
    "#print(eliminaCaracteresEspeciais(teste))"
   ]
  },
  {
   "cell_type": "code",
   "execution_count": 8,
   "metadata": {},
   "outputs": [],
   "source": [
    "def eliminaSufixosVerbais(texto):\n",
    "    texto = texto.replace('-se ', ' ')  \n",
    "    texto = texto.replace('-lo ', ' ') \n",
    "    texto = texto.replace('-os ', ' ') \n",
    "    texto = texto.replace('-as ', ' ')     \n",
    "    #texto = texto.replace(' nao-', ' ') #prefixo não     \n",
    "    \n",
    "    return texto"
   ]
  },
  {
   "cell_type": "code",
   "execution_count": 38,
   "metadata": {},
   "outputs": [],
   "source": [
    "def processaTokensNumericos(texto):\n",
    "    logging.info('Processando tokens numéricos...')\n",
    "    \n",
    "    # Substitui tokens numericos por <NUMBER>\n",
    "    texto = re.sub(r\" \\d+ \", \" <NUMBER> \", texto)\n",
    "    texto = re.sub(r' [\\d]+\\w+ ', ' <NUMBER> ', texto) # Substitui ocorrencias muito comuns do tipo 700m, 2008a, 124o etc\n",
    "    texto = re.sub(r' \\d{1,}-\\d{1,} ', ' <NUMBER> ', texto) #Substitui ocorrencias do tipo Range: 118-130\n",
    "\n",
    "    texto = re.sub(r\"( <NUMBER>)+\", \" <NUMBER>\", texto) # substituindo multiplas ocorrencias por apenas uma\n",
    "    return texto"
   ]
  },
  {
   "cell_type": "code",
   "execution_count": 39,
   "metadata": {},
   "outputs": [
    {
     "name": "stdout",
     "output_type": "stream",
     "text": [
      "iii <NUMBER> a <NUMBER> b <NUMBER> c <NUMBER> d <NUMBER> e <NUMBER> f <NUMBER> g <NUMBER> h <NUMBER> i <NUMBER> asd <NUMBER> teste 123. asd 123! asd <NUMBER> aaa <NUMBER> aaa <NUMBER> aaa 123? aaa 123)\n"
     ]
    }
   ],
   "source": [
    "#teste = \"iii 1 a 2 b 3 c 4 d 5 e 6 f 7 g 8 h 9 i 123 asd 123a teste 123. asd 123! asd 12354x aaa 740m aaa 123 aaa 123? aaa 123)\"\n",
    "#teste = \" <NUMBER> da Lei 9 \"\n",
    "#teste = '123a saida reator considera 4-115 variacao temperatura 84-115 dentro faixa 220c 250c perda 8-1 carga <NUMBER> bar 3- reatores tubulares leito fixo conforme dados jagger <NUMBER> 123a '\n",
    "#teste = re.sub(r'[\\d]+\\w ', ' <NUMBER> ', teste)\n",
    "#teste = re.sub(r' \\d{1,}-\\d{1,} ', ' <RANGE> ', teste)\n",
    "#print(processaTokensNumericos(teste))"
   ]
  },
  {
   "cell_type": "code",
   "execution_count": 15,
   "metadata": {},
   "outputs": [
    {
     "name": "stdout",
     "output_type": "stream",
     "text": [
      "Palavras a serem ignoradas do vocabulario {'can', 'too', 'seremos', 'serei', 'tem', \"aren't\", 'ii', 'aquele', 'during', 'needn', 'estivemos', 'quem', \"she's\", 'foi', 'tenho', 'aren', 'was', 'j', 'meu', 'estivesse', 'voces', 'r', 'um', 'formos', 'nor', 'tiver', 'they', 'hasn', 'after', 'which', 'because', 'ourselves', 'estive', 'nosso', 'estivera', 'uma', 'h', 'tiveramos', 'by', 'them', 'minha', 'os', 'fomos', 'both', 'houverao', 'sejamos', 'while', 'esteja', 'to', 'over', 'where', 'aquela', 'houver', 'tambem', 'tivera', 'sem', 'tu', 'ch', 'e', 'a', 'being', \"couldn't\", \"hasn't\", 'houvera', \"shouldn't\", 'qual', '-', 'theirs', 'it', 'seja', 'mustn', 'eles', 'when', 'teve', 'te', 'para', 'tivemos', 'about', 'deles', 'aquilo', 'hadn', 'w', 'tinha', 'her', 'mais', 'houverem', \"won't\", 'against', 'are', 'teus', 'did', 'da', 'este', 'were', \"it's\", \"should've\", 's', 'havemos', 'yours', 'foramos', 'isn', 'themselves', 'down', 'hajam', 'has', \"you've\", 'aquelas', 'here', 'das', 'ou', 'same', 'doesn', 'tiveram', 'essas', \"wasn't\", 'until', 'whom', 'so', 'terei', 'should', 'estava', 'me', 'out', 'pelo', 'hei', 'those', 'estejam', 'no', 'z', 'estivessem', 'se', 'por', '6leo', 'houvessem', 'teriam', 'than', 'y', 'aqueles', 'itself', 'estavamos', 'll', 'tivesse', 'more', 'c', 'num', \"shan't\", 'g', 'estivessemos', 'their', 'b', 'sao', 'v', 'tua', 'nossos', 'him', 'yourselves', 'tenham', 'yourself', 'does', 'hao', 'again', 'but', 'n', 'houveria', 'elas', '&', 'we', 'why', 'teremos', 'you', 'sejam', 'estamos', 'esta', 'd', 'f', 'em', 'isso', 'any', 'seu', 'of', 'that', 'had', 'teriamos', 'era', 'doing', 'off', 'in', 'esses', 'houveram', 'below', 'k', 'l', 'wasn', 'terao', 'at', 'que', 'depois', \"you'll\", \"you're\", 'your', 'didn', 'isto', 'estavam', 'sua', 'tenha', 'o', 'fosse', 'tive', 'teu', 'this', 'who', 'houveramos', 'sera', 'other', 'estas', \"wouldn't\", 'lhes', 'ma', 'nas', \"isn't\", 'como', 'lhe', 'houveremos', 'how', 'only', 'couldn', 'pelos', 'have', \"haven't\", 'tenhamos', 'aos', 'na', 'not', 'meus', 'houvemos', 'few', 'fui', 'entre', 'tivessem', \"hadn't\", 'houvermos', 'esse', 'shan', 'nos', 'there', 'tiverem', 'estiveramos', 'above', 'nem', \"you'd\", 'most', 'and', 'tera', 'ha', 'ain', 'eramos', 'haven', 'under', 'all', 'ela', 'each', 're', 'won', 'houvesse', 'she', 'he', 'tinham', 'now', 'before', 'minhas', 'fossemos', 'if', 'own', 'himself', 'eu', 'ja', 'houverei', 'de', 've', 'estivermos', 'estes', 'ours', 'x', 'don', 'my', 'i', 'shouldn', \"weren't\", 'tinhamos', 'into', 'just', 'mesmo', \"that'll\", 'forem', 'through', 'pelas', 'tuas', 'will', 'be', 'estiveram', 'fossem', 'estao', \"didn't\", 'is', 'estejamos', 'muito', 'vos', 'our', 'been', 'm', 'houveriam', 't', 'such', 'eram', 'teria', 'then', 'between', 'dele', 'wouldn', 'numa', 'delas', 'foram', 'seriam', 'these', 'seriamos', 'his', 'very', 'dela', 'an', 'u', 'voce', 'once', \"mustn't\", 'nossas', 'ao', 'somos', 'or', 'herself', 'ate', 'from', 'having', 'as', 'iii', 'q', 'up', 'tivermos', 'what', 'hajamos', 'suas', 'houveriamos', 'some', 'its', 'seria', 'do', 'nao', 'houve', 'nossa', 'weren', 'hers', 'seus', 'further', \"doesn't\", 'with', 'esteve', 'quando', 'fora', 'mas', '\\x05', 'estiverem', 'essa', 'myself', 'temos', 'estiver', 'mightn', \"don't\", 'serao', 'houvessemos', 'pela', 'com', \"mightn't\", 'p', 'am', 'estou', 'for', 'dos', 'ele', 'on', 'sou', \"needn't\", 'the', 'haja', 'tivessemos'}\n"
     ]
    }
   ],
   "source": [
    "# Mapeando stopwords com NLTK\n",
    "stopwordsPortugues = stopwords.words(\"portuguese\")\n",
    "if convert_diacritics: \n",
    "    stopwordsPortugues = [eliminaCaracteresAcentuados(t) for t in stopwordsPortugues] #normalizando stopwords\n",
    "stopwordsIngles = stopwords.words(\"english\")\n",
    "#stopwordsEspanhol = stopwords.words(\"spanish\")\n",
    "caracteres_unicos = [c for c in ascii_lowercase ]\n",
    "\n",
    "# em estudo anterior, obtivemos o conjunto das palavras mais comuns, onde se observam algumas palavras incorretas\n",
    "# resultantes do processo de extração do arquivo PDF. Estas palavras serao incluídas no vocabulário a ser ignorado\n",
    "# no corpus final.\n",
    "# Objetiva-se incrementar esta lista conforme novas palavras sao observadas, a medida em que novos arquivos sao\n",
    "# acrescentados ao corpus\n",
    "palavrasIncorretasComuns = ['-', '&', 'ch', 'ii','iii', '\\x05', '6leo']\n",
    "\n",
    "# mais rapido buscar em set do que em list\n",
    "vocabulario_palavras_ignoradas = set(\n",
    "                                     stopwordsPortugues + \n",
    "                                     stopwordsIngles + \n",
    "                                    # stopwordsEspanhol + \n",
    "                                     caracteres_unicos + \n",
    "                                     palavrasIncorretasComuns)\n",
    "\n",
    "\n",
    "   \n",
    "#print(\"Palavras a serem ignoradas do vocabulario\", vocabulario_palavras_ignoradas)\n"
   ]
  },
  {
   "cell_type": "code",
   "execution_count": 32,
   "metadata": {
    "collapsed": true
   },
   "outputs": [],
   "source": [
    "def eliminaStopwords(texto):\n",
    "    logging.info('Eliminando stopwords...')\n",
    "    sentenca_sem_stopwords = ''\n",
    "    \n",
    "    vocab_stopwords = vocabulario_palavras_ignoradas\n",
    "    ## Flag para desativar a eliminacao de stopwords, sem alterar a logica interna dos metodos\n",
    "    if remove_stopwords == False:\n",
    "        vocab_stopwords = set()\n",
    "    \n",
    "    # Ao reconstruir as sentencas, elimina-se todos os caracteres \\n no metodo split, eliminando tambem espacos duplicados, etc\n",
    "    if isReconstroiSentencas:\n",
    "        sentenca_sem_stopwords = [w for w in texto.split() if not w in vocab_stopwords]\n",
    "    else:\n",
    "        texto = re.sub(' +', ' ', texto) # Elimina espacos duplicados\n",
    "        sentenca_sem_stopwords = [w for w in texto.split(\" \") if not w in vocab_stopwords]\n",
    "        \n",
    "    texto = \" \".join( sentenca_sem_stopwords ) \n",
    "    return texto"
   ]
  },
  {
   "cell_type": "code",
   "execution_count": 33,
   "metadata": {
    "collapsed": true
   },
   "outputs": [],
   "source": [
    "#frequenciaMinimaPalavra = 1\n",
    "#texto = 'teste1 raraA raraB raraC teste teste teste1 aaa aaa bbb bbb'\n",
    "#word_counts = Counter(texto.split())\n",
    "#palavras_raras = [w for w in word_counts if word_counts[w] <= frequenciaMinimaPalavra]\n",
    "#print(palavras_raras)\n",
    "\n",
    "#print('')\n",
    "#print(eliminaPalavrasRaras(texto))"
   ]
  },
  {
   "cell_type": "code",
   "execution_count": 45,
   "metadata": {},
   "outputs": [
    {
     "data": {
      "text/plain": [
       "'teste'"
      ]
     },
     "execution_count": 45,
     "metadata": {},
     "output_type": "execute_result"
    }
   ],
   "source": [
    "#\"         teste        \".strip()"
   ]
  },
  {
   "cell_type": "code",
   "execution_count": 39,
   "metadata": {},
   "outputs": [],
   "source": [
    "def processaListaMWEs(arquivoMWEs):\n",
    "    print('Iniciando leitura dos MWEs')\n",
    "    texto = leTextoDeArquivo(arquivoMWEs)\n",
    "    texto = texto.replace(',','')\n",
    "    lista_mwes = texto.split(\"\\n\")\n",
    "    # ordenar lista_mwes  \n",
    "    lista_mwes = sorted(lista_mwes, key=lambda s: len(s.split()), reverse=True)\n",
    "    \n",
    "    print('Processamento da lista de MWEs finalizada')\n",
    "    return lista_mwes"
   ]
  },
  {
   "cell_type": "code",
   "execution_count": 48,
   "metadata": {},
   "outputs": [],
   "source": [
    "def posProcessamentos(texto):\n",
    "    # Eliminando espaco no inicio de cada linha\n",
    "    texto = texto.replace('\\n ', ' \\n')\n",
    "    \n",
    "    # Eliminando sentencas curtas (<3 tokens)\n",
    "    tamanho_minimo_sentecas = 3\n",
    "    sentences = texto.split('\\n')\n",
    "    texto = \"\\n\".join( [sentence for sentence in sentences if len(sentence.split()) >= tamanho_minimo_sentecas])  \n",
    "    \n",
    "    return texto"
   ]
  },
  {
   "cell_type": "markdown",
   "metadata": {},
   "source": [
    "\n",
    "##### Unificando as quebras de linhas, refazendo as sentenças.\n",
    "\n",
    "Obervou-se a ocorrencia de muitas quebras de linhas desnecessárias, produto de erros na extração do PDF. As quebras de linha serão todas eliminadas, e posteriormente refeitas considerando o caractere de ponto como final de sentença e quebra de linha.\n"
   ]
  },
  {
   "cell_type": "code",
   "execution_count": 34,
   "metadata": {
    "collapsed": true
   },
   "outputs": [],
   "source": [
    "def reconstroiSentencas(texto):\n",
    "    texto = texto.replace('?','.').replace('!','.')  #.replace('\\n', ' ').replace('\\r', '') e realizado abaixo:\n",
    "\n",
    "    if not isReconstroiSentencas:\n",
    "        logging.info(\"Ignorando recontrucao de sentenças\")\n",
    "        return texto\n",
    "        \n",
    "    logging.info('Reunificando quebras de linha...')\n",
    "    \n",
    "    texto = ' '.join(texto.split())  # removendo multiplos espaços consecutivos e outras quebras de linha\n",
    "    lista_com_quebra_de_linha = texto.split('.')\n",
    "    \n",
    "    # unificando caso a sentença contenha ao menos 3 palavras\n",
    "#    texto = \"\\n\".join( lista_com_quebra_de_linha) \n",
    "#    texto = \"\\n\".join( [sentenca for sentenca in lista_com_quebra_de_linha if len(sentenca.split()) > 2]) # 'if' migrado para o pos processamento\n",
    "    texto = \"\\n\".join( [sentenca for sentenca in lista_com_quebra_de_linha]) \n",
    "    \n",
    "    # eliminando sentencas com menos de 3 palavras\n",
    "    # lista_com_quebra_de_linha = texto.split('\\n')\n",
    "    # texto = '\\n'.join([sentenca for sentenca in lista_com_quebra_de_linha if len(sentenca.split(' ')) > 3])\n",
    "    \n",
    "    return texto"
   ]
  }
 ],
 "metadata": {
  "kernelspec": {
   "display_name": "Python 3",
   "language": "python",
   "name": "python3"
  },
  "language_info": {
   "codemirror_mode": {
    "name": "ipython",
    "version": 3
   },
   "file_extension": ".py",
   "mimetype": "text/x-python",
   "name": "python",
   "nbconvert_exporter": "python",
   "pygments_lexer": "ipython3",
   "version": "3.6.5"
  }
 },
 "nbformat": 4,
 "nbformat_minor": 2
}
