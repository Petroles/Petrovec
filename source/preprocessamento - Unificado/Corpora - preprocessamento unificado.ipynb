{
 "cells": [
  {
   "cell_type": "code",
   "execution_count": 5,
   "metadata": {
    "scrolled": true
   },
   "outputs": [],
   "source": [
    "import numpy as np\n",
    "import re\n",
    "import nltk\n",
    "from collections import Counter\n",
    "import os\n",
    "from pathlib import Path\n",
    "import datetime\n",
    "from string import ascii_lowercase\n",
    "import pandas as pd\n",
    "import os\n",
    "from os import listdir\n",
    "from os.path import isfile, join, isdir\n",
    "import datetime\n",
    "import unicodedata\n",
    "from nltk.corpus import stopwords # Import the stop word list\n",
    "from string import ascii_lowercase\n",
    "import re"
   ]
  },
  {
   "cell_type": "code",
   "execution_count": 6,
   "metadata": {},
   "outputs": [
    {
     "data": {
      "text/html": [
       "<style>.container { width:100% !important; }</style>"
      ],
      "text/plain": [
       "<IPython.core.display.HTML object>"
      ]
     },
     "metadata": {},
     "output_type": "display_data"
    }
   ],
   "source": [
    "%run _PreProcessamento.ipynb"
   ]
  },
  {
   "cell_type": "code",
   "execution_count": 3,
   "metadata": {},
   "outputs": [],
   "source": [
    "pastaBaseCorporaEntrada = join('Publicos')\n",
    "\n",
    "listaCorpora = [\n",
    "    join(pastaBaseCorporaEntrada, 'ANP', 'Notas e Estudos Tecnicos'),\n",
    "    join(pastaBaseCorporaEntrada, 'ANP', 'Glossario'),\n",
    "    join(pastaBaseCorporaEntrada, 'ANP', 'Livros'),\n",
    "    join(pastaBaseCorporaEntrada, 'ANP', 'Publicacoes'),\n",
    "    join(pastaBaseCorporaEntrada, 'ANP', 'Teses e Monografias PRH'),\n",
    "    join(pastaBaseCorporaEntrada, 'IBGE'),\n",
    "    join(pastaBaseCorporaEntrada, 'IBICT-BDTD(extrator PUC)'),\n",
    "    join(pastaBaseCorporaEntrada, 'IBP', 'Rio OeG 2018'),\n",
    "    join(pastaBaseCorporaEntrada, 'Boletins Tecnicos Petrobras', 'Boletim de Geociências da Petrobras'),\n",
    "    join(pastaBaseCorporaEntrada, 'Boletins Tecnicos Petrobras', 'Boletim Técnico da Produção de Petróleo'),\n",
    "    join(pastaBaseCorporaEntrada, 'Boletins Tecnicos Petrobras', 'Boletim Técnico da Petrobras'),\n",
    "    join(pastaBaseCorporaEntrada, 'Petrosin - Monografias'),\n",
    "    join(pastaBaseCorporaEntrada, 'Petrosin - Teses'),\n",
    "    join(pastaBaseCorporaEntrada, 'DicionarioDoPetroleo'),\n",
    "]\n",
    "\n",
    "convert_lowercase = False\n",
    "remove_special_chars = True\n",
    "convert_diacritics = False  # converte diacríticos em seus correspondentes não-acentuados\n",
    "remove_stopwords = False\n",
    "remove_numeric_tolens = True\n",
    "remove_single_char = False  # remove tokens formados por um único caractere\n",
    "remove_hifen_suffixes = False  # elimina sufixos verbais, do tipo -se, -lo\n",
    "replace_hyphenation = False\n",
    "\n",
    "\n",
    "nomeArquivoSaidaCorpus = join('Publicos','Publico COMPLETO - algoritmos de NER.txt')\n",
    "isReconstroiSentencas = True\n",
    "ignoraExcel = True"
   ]
  },
  {
   "cell_type": "code",
   "execution_count": null,
   "metadata": {},
   "outputs": [],
   "source": [
    "textoCorpus = processaArquivosDaPasta(listaCorpora, nomeArquivoSaidaCorpus)"
   ]
  },
  {
   "cell_type": "markdown",
   "metadata": {},
   "source": [
    "## Exportanto os corpora do Petrolês com o mínimo de processamento"
   ]
  },
  {
   "cell_type": "code",
   "execution_count": 7,
   "metadata": {},
   "outputs": [],
   "source": [
    "## IBICT-BDTD\n",
    "pastaBaseCorporaEntrada = join('Publicos')\n",
    "\n",
    "convert_lowercase = False\n",
    "remove_special_chars = True\n",
    "convert_diacritics = False  # converte diacríticos em seus correspondentes não-acentuados\n",
    "remove_stopwords = False\n",
    "remove_numeric_tolens = True\n",
    "remove_single_char = False  # remove tokens formados por um único caractere\n",
    "remove_hifen_suffixes = False  # elimina sufixos verbais, do tipo -se, -lo\n",
    "replace_hyphenation = False\n",
    "isReconstroiSentencas = True\n",
    "ignoraExcel = True\n"
   ]
  },
  {
   "cell_type": "code",
   "execution_count": null,
   "metadata": {},
   "outputs": [
    {
     "name": "stdout",
     "output_type": "stream",
     "text": [
      "\n",
      "\n",
      "\n",
      "Tempo total decorrido:  0:04:02.227618\n"
     ]
    }
   ],
   "source": [
    "## Corpus publico completo sem IBICT-BDTD\n",
    "listaCorpora = [\n",
    "    join(pastaBaseCorporaEntrada, 'ANP', 'Notas e Estudos Tecnicos'),\n",
    "    join(pastaBaseCorporaEntrada, 'ANP', 'Glossario'),\n",
    "    join(pastaBaseCorporaEntrada, 'ANP', 'Livros'),\n",
    "    join(pastaBaseCorporaEntrada, 'ANP', 'Publicacoes'),\n",
    "    join(pastaBaseCorporaEntrada, 'ANP', 'Teses e Monografias PRH'),\n",
    "    join(pastaBaseCorporaEntrada, 'IBGE'),\n",
    "    #join(pastaBaseCorporaEntrada, 'IBICT-BDTD(extrator PUC)'),\n",
    "    join(pastaBaseCorporaEntrada, 'IBP', 'Rio OeG 2018'),\n",
    "    join(pastaBaseCorporaEntrada, 'Boletins Tecnicos Petrobras', 'Boletim de Geociências da Petrobras'),\n",
    "    join(pastaBaseCorporaEntrada, 'Boletins Tecnicos Petrobras', 'Boletim Técnico da Produção de Petróleo'),\n",
    "    join(pastaBaseCorporaEntrada, 'Boletins Tecnicos Petrobras', 'Boletim Técnico da Petrobras'),\n",
    "    join(pastaBaseCorporaEntrada, 'Petrosin - Monografias'),\n",
    "    join(pastaBaseCorporaEntrada, 'Petrosin - Teses'),\n",
    "    join(pastaBaseCorporaEntrada, 'DicionarioDoPetroleo'),\n",
    "]\n",
    "\n",
    "\n",
    "nomeArquivoSaidaCorpus = join('_Consolidados','SemProcessamento','corpusPublico(sem IBICT)-SemProcessamento.txt')\n",
    "isReconstroiSentencas = True\n",
    "ignoraExcel = True\n",
    "processaArquivosDaPasta(listaCorpora, nomeArquivoSaidaCorpus)"
   ]
  },
  {
   "cell_type": "code",
   "execution_count": null,
   "metadata": {},
   "outputs": [],
   "source": []
  },
  {
   "cell_type": "code",
   "execution_count": null,
   "metadata": {},
   "outputs": [],
   "source": []
  }
 ],
 "metadata": {
  "kernelspec": {
   "display_name": "Python 3",
   "language": "python",
   "name": "python3"
  },
  "language_info": {
   "codemirror_mode": {
    "name": "ipython",
    "version": 3
   },
   "file_extension": ".py",
   "mimetype": "text/x-python",
   "name": "python",
   "nbconvert_exporter": "python",
   "pygments_lexer": "ipython3",
   "version": "3.6.5"
  }
 },
 "nbformat": 4,
 "nbformat_minor": 2
}
